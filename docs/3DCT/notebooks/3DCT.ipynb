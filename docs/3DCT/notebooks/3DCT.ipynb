{
 "cells": [
  {
   "cell_type": "markdown",
   "metadata": {},
   "source": [
    "[![Binder](https://mybinder.org/badge_logo.svg)](https://nbviewer.org/github/vicente-gonzalez-ruiz/color-DCT/blob/main/color_DCT.ipynb)"
   ]
  },
  {
   "cell_type": "markdown",
   "metadata": {},
   "source": [
    "[![Colab](https://badgen.net/badge/Launch/on%20Google%20Colab/blue?icon=notebook)](https://colab.research.google.com/github/vicente-gonzalez-ruiz/color_DCT/blob/main/color_DCT.ipynb)"
   ]
  },
  {
   "cell_type": "markdown",
   "metadata": {},
   "source": [
    "# 3-Channels DCT\n",
    "\n",
    "Removing redundancy in the color domain with the [DCT](https://docs.scipy.org/doc/scipy/reference/generated/scipy.fftpack.dct.html)."
   ]
  },
  {
   "cell_type": "markdown",
   "metadata": {},
   "source": [
    "## Deployment"
   ]
  },
  {
   "cell_type": "code",
   "execution_count": null,
   "metadata": {},
   "outputs": [],
   "source": [
    "%%bash\n",
    "if [ -d \"$HOME/repos\" ]; then\n",
    "    echo \"\\\"$HOME/repos\\\" exists\"\n",
    "else\n",
    "    mkdir ~/repos\n",
    "    echo Created $HOME/repos\n",
    "fi"
   ]
  },
  {
   "cell_type": "code",
   "execution_count": null,
   "metadata": {},
   "outputs": [],
   "source": [
    "%%bash\n",
    "if [ -d \"$HOME/repos/MRVC\" ]; then\n",
    "    cd $HOME/repos/MRVC\n",
    "    echo \"$HOME/repos/MRVC ... \"\n",
    "    git pull \n",
    "else\n",
    "    cd $HOME/repos\n",
    "    git clone https://github.com/Sistemas-Multimedia/MRVC.git\n",
    "fi"
   ]
  },
  {
   "cell_type": "code",
   "execution_count": null,
   "metadata": {},
   "outputs": [],
   "source": [
    "%%bash\n",
    "if [ -d \"$HOME/repos/image_IO\" ]; then\n",
    "    cd $HOME/repos/image_IO\n",
    "    echo \"$HOME/repos/image_IO ... \"\n",
    "    git pull \n",
    "else\n",
    "    cd $HOME/repos\n",
    "    git clone https://github.com/vicente-gonzalez-ruiz/image_IO.git\n",
    "fi"
   ]
  },
  {
   "cell_type": "code",
   "execution_count": null,
   "metadata": {},
   "outputs": [],
   "source": [
    "%%bash\n",
    "if [ -d \"$HOME/repos/scalar_quantization\" ]; then\n",
    "    cd $HOME/repos/scalar_quantization\n",
    "    echo \"$HOME/repos/scalar_quantization ... \"\n",
    "    git pull \n",
    "else\n",
    "    cd $HOME/repos\n",
    "    git clone https://github.com/vicente-gonzalez-ruiz/scalar_quantization.git\n",
    "fi"
   ]
  },
  {
   "cell_type": "code",
   "execution_count": null,
   "metadata": {},
   "outputs": [],
   "source": [
    "import os\n",
    "try:\n",
    "    import matplotlib\n",
    "    %matplotlib inline\n",
    "except:\n",
    "    !pip install matplotlib\n",
    "#import matplotlib.pyplot as plt\n",
    "#import matplotlib.axes as ax\n",
    "##plt.rcParams['text.usetex'] = True\n",
    "##plt.rcParams['text.latex.preamble'] = [r'\\usepackage{amsmath}'] #for \\text command\n",
    "#import pylab\n",
    "#import math\n",
    "try:\n",
    "    import numpy as np\n",
    "except:\n",
    "    !pip install numpy\n",
    "try:\n",
    "    from scipy import signal\n",
    "    from scipy.fftpack import dct, idct\n",
    "except:\n",
    "    !pip install scipy\n",
    "try:\n",
    "    import cv2\n",
    "except:\n",
    "    !pip install opencv-python\n",
    "    !pip install opencv-python-headless # Binder compatibility\n",
    "try:\n",
    "    import colored\n",
    "except:\n",
    "    !pip install colored\n",
    "\n",
    "!ln -sf ~/repos/image_IO/image_3.py .\n",
    "!ln -sf ~/repos/image_IO/image_1.py .\n",
    "!ln -sf ~/repos/scalar_quantization/quantization.py .\n",
    "!ln -sf ~/repos/information_theory/information.py .\n",
    "!ln -sf ~/repos/scalar_quantization/deadzone_quantization.py .\n",
    "\n",
    "import color_DCT\n",
    "import information\n",
    "import image_3 as RGB_image\n",
    "import image_1 as gray_image\n",
    "import quantization\n",
    "import deadzone_quantization as DZQ\n",
    "#import colored"
   ]
  },
  {
   "cell_type": "markdown",
   "metadata": {},
   "source": [
    "## Notebook parameters"
   ]
  },
  {
   "cell_type": "code",
   "execution_count": null,
   "metadata": {},
   "outputs": [],
   "source": [
    "# Prefix of the RGB image to be compressed.\n",
    "\n",
    "home = os.environ[\"HOME\"]\n",
    "fn = home + \"/repos/MRVC/images/lena_color/\"\n",
    "#fn = home + \"/MRVC/sequences/stockholm/\"\n",
    "image_dtype = np.uint8 # For 8 bpp/component images\n",
    "#image_dtype = np.uint16 # For 16 bpp/component images\n",
    "\n",
    "DCT_components = ['0', '1', '2']"
   ]
  },
  {
   "cell_type": "markdown",
   "metadata": {},
   "source": [
    "## Color-DCT matrix computation\n",
    "Inversely transform the posible deltas to get the 3x3 matrix coefficients."
   ]
  },
  {
   "cell_type": "code",
   "execution_count": null,
   "metadata": {},
   "outputs": [],
   "source": [
    "DCT_type = 3\n",
    "norm = \"ortho\" # Orthonormal: orthogonal + unitary (unit gain in both directions of the transform)\n",
    "#norm = None"
   ]
  },
  {
   "cell_type": "code",
   "execution_count": null,
   "metadata": {},
   "outputs": [],
   "source": [
    "DCT0_delta = np.array([1, 0, 0])\n",
    "idct(DCT0_delta, type=DCT_type, norm=norm)"
   ]
  },
  {
   "cell_type": "code",
   "execution_count": null,
   "metadata": {},
   "outputs": [],
   "source": [
    "DCT0_delta = np.array([0, 1, 0])\n",
    "idct(DCT0_delta, type=DCT_type, norm=norm)"
   ]
  },
  {
   "cell_type": "code",
   "execution_count": null,
   "metadata": {},
   "outputs": [],
   "source": [
    "DCT0_delta = np.array([0, 0, 1])\n",
    "idct(DCT0_delta, type=DCT_type, norm=norm)"
   ]
  },
  {
   "cell_type": "markdown",
   "metadata": {},
   "source": [
    "## Read the image and show it"
   ]
  },
  {
   "cell_type": "code",
   "execution_count": null,
   "metadata": {},
   "outputs": [],
   "source": [
    "RGB_img = RGB_image.read(fn).astype(image_dtype)\n",
    "RGB_image.show(RGB_img, fn + \"000.png\")"
   ]
  },
  {
   "cell_type": "code",
   "execution_count": null,
   "metadata": {},
   "outputs": [],
   "source": [
    "RGB_img.shape"
   ]
  },
  {
   "cell_type": "code",
   "execution_count": null,
   "metadata": {},
   "outputs": [],
   "source": [
    "RGB_img.dtype"
   ]
  },
  {
   "cell_type": "markdown",
   "metadata": {},
   "source": [
    "## (RGB -> color-DCT) transform of the image"
   ]
  },
  {
   "cell_type": "code",
   "execution_count": null,
   "metadata": {},
   "outputs": [],
   "source": [
    "DCT_img = color_DCT.from_RGB(RGB_img)\n",
    "print(DCT_img.dtype)"
   ]
  },
  {
   "cell_type": "code",
   "execution_count": null,
   "metadata": {},
   "outputs": [],
   "source": [
    "gray_image.show(DCT_img[..., 0], fn + \"000 (DCT0)\")"
   ]
  },
  {
   "cell_type": "code",
   "execution_count": null,
   "metadata": {},
   "outputs": [],
   "source": [
    "gray_image.show(DCT_img[..., 1], fn + \"000 (DCT1)\")"
   ]
  },
  {
   "cell_type": "code",
   "execution_count": null,
   "metadata": {},
   "outputs": [],
   "source": [
    "gray_image.show(DCT_img[..., 2], fn + \"000 (DCT2)\")"
   ]
  },
  {
   "cell_type": "markdown",
   "metadata": {},
   "source": [
    "## Energy of the DCT components"
   ]
  },
  {
   "cell_type": "code",
   "execution_count": null,
   "metadata": {},
   "outputs": [],
   "source": [
    "DCT0_avg_energy = information.average_energy(DCT_img[..., 0])\n",
    "DCT1_avg_energy = information.average_energy(DCT_img[..., 1])\n",
    "DCT2_avg_energy = information.average_energy(DCT_img[..., 2])\n",
    "print(f\"Average energy of component DCT0 = {int(DCT0_avg_energy)}\")\n",
    "print(f\"Average energy of component DCT1 = {int(DCT1_avg_energy)}\")\n",
    "print(f\"Average energy of component DCT2 = {int(DCT2_avg_energy)}\")\n",
    "total_DCT_avg_energy = DCT0_avg_energy + DCT1_avg_energy + DCT2_avg_energy\n",
    "print(f\"Total average energy (computed by adding the energies of the DCT coefficients {int(DCT0_avg_energy)} + {int(DCT1_avg_energy)} + {int(DCT2_avg_energy)}) = {int(total_DCT_avg_energy)}\")\n",
    "print(f\"Total RGB average energy (computed directly from the RGB image) = {int(information.average_energy(RGB_img)*3)}\")"
   ]
  },
  {
   "cell_type": "markdown",
   "metadata": {},
   "source": [
    "Therefore, the forward DCT is energy preserving (unitary)."
   ]
  },
  {
   "cell_type": "code",
   "execution_count": null,
   "metadata": {},
   "outputs": [],
   "source": [
    "RGB_recons_img = color_DCT.to_RGB(DCT_img)\n",
    "print(f\"Total RGB average energy (computed from the reconstructed RGB image) = {int(information.average_energy(RGB_recons_img)*3)}\")"
   ]
  },
  {
   "cell_type": "markdown",
   "metadata": {},
   "source": [
    "And the same can be said about the backward transform."
   ]
  },
  {
   "cell_type": "markdown",
   "metadata": {},
   "source": [
    "## More insights about the orthogonality of the DCT\n",
    "Orthogonal transforms preserve the energy and also, the distortion, that in last instance is a loss of energy."
   ]
  },
  {
   "cell_type": "code",
   "execution_count": null,
   "metadata": {},
   "outputs": [],
   "source": [
    "DCT_img = color_DCT.from_RGB(RGB_img)\n",
    "Q = DZQ.Deadzone_Quantizer(Q_step=8)\n",
    "quantized_DCT_img, k = Q.quan_dequan(DCT_img)\n",
    "DCT_avg_energy = information.average_energy(quantized_DCT_img)\n",
    "print(f\"Average energy in the DCT domain = {int(DCT_avg_energy)}\")\n",
    "\n",
    "quantized_img, k = Q.quan_dequan(RGB_img)\n",
    "RGB_avg_energy = information.average_energy(quantized_img)\n",
    "print(f\"Average energy in the RGB domain = {int(RGB_avg_energy)}\")"
   ]
  },
  {
   "cell_type": "markdown",
   "metadata": {},
   "source": [
    "Except for the error introduced by the arithmetic precision limit, the distortion can be measured in both domains, DCT and RGB. (Again) This is true because the DCT is orthogonal."
   ]
  },
  {
   "cell_type": "markdown",
   "metadata": {},
   "source": [
    "## (RGB <-> color-DCT) transform error\n",
    "The DCT is only near-energy-preserving because the DCT coefficients are real (floating-point) numbers (only integer arithmetic is fully reversible)."
   ]
  },
  {
   "cell_type": "code",
   "execution_count": null,
   "metadata": {},
   "outputs": [],
   "source": [
    "RGB_image.show_normalized(RGB_recons_img, fn + \"000.png (DCT recons)\")"
   ]
  },
  {
   "cell_type": "code",
   "execution_count": null,
   "metadata": {},
   "outputs": [],
   "source": [
    "np.array_equal(RGB_img, RGB_recons_img)"
   ]
  },
  {
   "cell_type": "code",
   "execution_count": null,
   "metadata": {},
   "outputs": [],
   "source": [
    "print(RGB_img.max(), RGB_img.min())"
   ]
  },
  {
   "cell_type": "code",
   "execution_count": null,
   "metadata": {},
   "outputs": [],
   "source": [
    "print(RGB_recons_img.max(), RGB_recons_img.min())"
   ]
  },
  {
   "cell_type": "code",
   "execution_count": null,
   "metadata": {},
   "outputs": [],
   "source": [
    "RGB_image.show_normalized(RGB_img - RGB_recons_img.astype(image_dtype), \"Reconstruction error (rounding error) color-DCT\")"
   ]
  },
  {
   "cell_type": "markdown",
   "metadata": {},
   "source": [
    "The DCT transform is irreversible. In general, only integer arithmetic operations guarantees reversibility."
   ]
  },
  {
   "cell_type": "markdown",
   "metadata": {},
   "source": [
    "## Relative gains of the synthesis filters\n",
    "\n",
    "The synthesis filters gains are important because the quantization steps of each color-DCT component should be adjusted in order to effectively provide the desired number of [bins](http://www.winlab.rutgers.edu/~crose/322_html/quantization.pdf) (different dequantized values) in each component."
   ]
  },
  {
   "cell_type": "code",
   "execution_count": null,
   "metadata": {},
   "outputs": [],
   "source": [
    "import numpy as np\n",
    "from scipy.fftpack import dct, idct\n",
    "\n",
    "DCT_type = 3\n",
    "norm = \"ortho\" # Orthonormal: orthogonal + unitary (unit gain in both directions of the transform)\n",
    "#norm = None"
   ]
  },
  {
   "cell_type": "code",
   "execution_count": null,
   "metadata": {},
   "outputs": [],
   "source": [
    "def print_info(val):\n",
    "    DCT0_delta = np.array([val, 0, 0])\n",
    "    RGB_DCT0_delta = idct(DCT0_delta, type=DCT_type, norm=norm)\n",
    "    RGB_energy_DCT0_delta = information.energy(RGB_DCT0_delta)\n",
    "    \n",
    "    DCT1_delta = np.array([0, val, 0])\n",
    "    RGB_DCT1_delta = idct(DCT1_delta, type=DCT_type, norm=norm)\n",
    "    RGB_energy_DCT1_delta = information.energy(RGB_DCT1_delta)\n",
    "    \n",
    "    DCT2_delta = np.array([0, 0, val])\n",
    "    RGB_DCT2_delta = idct(DCT2_delta, type=DCT_type, norm=norm)\n",
    "    RGB_energy_DCT2_delta = information.energy(RGB_DCT2_delta)\n",
    "    \n",
    "    zero = np.array([0, 0, 0])\n",
    "    RGB_zero = idct(zero, type=DCT_type, norm=norm)\n",
    "    RGB_energy_zero = information.energy(RGB_zero)\n",
    "    \n",
    "    print(f\"{val}^2 = {val*val}\")\n",
    "    \n",
    "    print(f\"Energy of {DCT0_delta} in the RGB domain ({RGB_DCT0_delta}) = {RGB_energy_DCT0_delta}\")\n",
    "    print(f\"Energy of {DCT1_delta} in the RGB domain ({RGB_DCT1_delta}) = {RGB_energy_DCT1_delta}\")\n",
    "    print(f\"Energy of {DCT2_delta} in the RGB domain ({RGB_DCT2_delta}) = {RGB_energy_DCT2_delta}\")\n",
    "    print(f\"Energy of {zero} in the RGB domain ({RGB_zero}) = {RGB_energy_zero}\")\n",
    "    \n",
    "    max_ = max(RGB_energy_DCT0_delta, RGB_energy_DCT1_delta, RGB_energy_DCT2_delta)\n",
    "    DCT0_relative_gain = RGB_energy_DCT0_delta / max_\n",
    "    DCT1_relative_gain = RGB_energy_DCT1_delta / max_\n",
    "    DCT2_relative_gain = RGB_energy_DCT2_delta / max_\n",
    "    print(f\"Relative gain of DCT0 component = {DCT0_relative_gain}\")\n",
    "    print(f\"Relative gain of DCT1 component = {DCT1_relative_gain}\")\n",
    "    print(f\"Relative gain of DCT2 component = {DCT2_relative_gain}\")\n",
    "    \n",
    "print_info(255)\n",
    "print()\n",
    "print_info(1)\n",
    "print()\n",
    "print_info(0)"
   ]
  },
  {
   "cell_type": "markdown",
   "metadata": {},
   "source": [
    "The gain of each color-DCT inverse filter is 1 (the transform is orthonormal). <!-- Therefore, under bit-rate restrictions, the optimal quantization pattern (without considering other aspects such as the compresibility of each component) is $\\Delta_{\\text{DCT0}} = \\Delta_{\\text{DCT1}} = \\Delta_{\\text{DCT2}}$. -->"
   ]
  },
  {
   "cell_type": "markdown",
   "metadata": {},
   "source": [
    "## Amplitude shift in the DCT domain\n",
    "This aspect can be interesting to encode the DCT coefficients.\n",
    "<!--\n",
    "To decide how to quantize, it is necessary to known how the amplitudes of the original image are *translated* to the transform domain. A good choice to find out this is to transform noise. In our case, lets use a random image with ([normal](https://numpy.org/doc/stable/reference/random/generated/numpy.random.normal.html)) [Gaussian noise](https://en.wikipedia.org/wiki/Gaussian_noise) with mean 0, color-DCT it, and check where the transformed noise has its mean in each component. Notice that, by definition, the noise cannot be decorrelated by transforms, and therefore, the noise is simply *transfered* from the RGB domain to the transform domain. Thus, depending on where the transformed noise has the mean, we can decide if the signal must be shifted before or after the transform. Notice that the input signal to a dead-zone quantizer must have 0 mean.-->"
   ]
  },
  {
   "cell_type": "code",
   "execution_count": null,
   "metadata": {},
   "outputs": [],
   "source": [
    "# loc = mean, scale=standard deviation, size=number of samples\n",
    "RGB_noise = np.random.normal(loc=0, scale=10, size=512*512*3).reshape(512, 512, 3)"
   ]
  },
  {
   "cell_type": "code",
   "execution_count": null,
   "metadata": {},
   "outputs": [],
   "source": [
    "RGB_image.show(RGB_noise, \"Gaussian RGB noise\")"
   ]
  },
  {
   "cell_type": "code",
   "execution_count": null,
   "metadata": {},
   "outputs": [],
   "source": [
    "DCT_noise = color_DCT.from_RGB(RGB_noise)"
   ]
  },
  {
   "cell_type": "code",
   "execution_count": null,
   "metadata": {},
   "outputs": [],
   "source": [
    "gray_image.show_normalized(DCT_noise[..., 0], \"Gaussian DCT0 noise\")"
   ]
  },
  {
   "cell_type": "code",
   "execution_count": null,
   "metadata": {},
   "outputs": [],
   "source": [
    "gray_image.show_normalized(DCT_noise[..., 1], \"Gaussian DCT1 noise\")"
   ]
  },
  {
   "cell_type": "code",
   "execution_count": null,
   "metadata": {},
   "outputs": [],
   "source": [
    "gray_image.show_normalized(DCT_noise[..., 2], \"Gaussian DCT2 noise\")"
   ]
  },
  {
   "cell_type": "markdown",
   "metadata": {},
   "source": [
    "The color-DCT does not modify the mean of the image when it has a 0 mean."
   ]
  },
  {
   "cell_type": "markdown",
   "metadata": {},
   "source": [
    "## Conclusion\n",
    "\n",
    "* The Color-DCT concentrates most of the energy in the DCT$_0$ component, that represents the luminance of the image.\n",
    "* The DCT domain is irreversible and needs floating-point arithmetic."
   ]
  },
  {
   "cell_type": "markdown",
   "metadata": {},
   "source": [
    "<!-- ## Entropy gain\n",
    "Let's check if the energy compactation reduces the amount of information (that can be quantified in terms of the entropy). Notice that the DCT coefficients are real numbers, and for this reason, they need to be quantized before the entropy is computed. In this case, we will truncate the -->"
   ]
  }
 ],
 "metadata": {
  "kernelspec": {
   "display_name": "Python 3 (ipykernel)",
   "language": "python",
   "name": "python3"
  },
  "language_info": {
   "codemirror_mode": {
    "name": "ipython",
    "version": 3
   },
   "file_extension": ".py",
   "mimetype": "text/x-python",
   "name": "python",
   "nbconvert_exporter": "python",
   "pygments_lexer": "ipython3",
   "version": "3.10.8"
  }
 },
 "nbformat": 4,
 "nbformat_minor": 4
}
