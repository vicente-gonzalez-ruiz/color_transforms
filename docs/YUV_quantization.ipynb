{
 "cells": [
  {
   "cell_type": "markdown",
   "metadata": {},
   "source": [
    "[![Binder](https://mybinder.org/badge_logo.svg)](https://nbviewer.org/github/vicente-gonzalez-ruiz/color_transforms/blob/main/docs/YUV_quantization.ipynb)"
   ]
  },
  {
   "cell_type": "markdown",
   "metadata": {},
   "source": [
    "[![Colab](https://badgen.net/badge/Launch/on%20Google%20Colab/blue?icon=notebook)](https://colab.research.google.com/github/vicente-gonzalez-ruiz/color_transforms/blob/main/docs/YUV_quantization.ipynb)"
   ]
  },
  {
   "cell_type": "markdown",
   "metadata": {},
   "source": [
    "# YUV image compression"
   ]
  },
  {
   "cell_type": "code",
   "execution_count": null,
   "metadata": {},
   "outputs": [],
   "source": [
    "import math\n",
    "import os"
   ]
  },
  {
   "cell_type": "code",
   "execution_count": null,
   "metadata": {},
   "outputs": [],
   "source": [
    "try:\n",
    "    import matplotlib\n",
    "    import matplotlib.pyplot as plt\n",
    "    import matplotlib.axes as ax\n",
    "    #plt.rcParams['text.usetex'] = True\n",
    "    #plt.rcParams['text.latex.preamble'] = [r'\\usepackage{amsmath}'] #for \\text command\n",
    "    import pylab\n",
    "except:\n",
    "    !pip install matplotlib\n",
    "    import matplotlib\n",
    "    import matplotlib.pyplot as plt\n",
    "    import matplotlib.axes as ax\n",
    "    #plt.rcParams['text.usetex'] = True\n",
    "    #plt.rcParams['text.latex.preamble'] = [r'\\usepackage{amsmath}'] #for \\text command\n",
    "    import pylab\n",
    "\n",
    "%matplotlib inline"
   ]
  },
  {
   "cell_type": "code",
   "execution_count": null,
   "metadata": {},
   "outputs": [],
   "source": [
    "try:\n",
    "    import numpy as np\n",
    "except:\n",
    "    !pip install numpy\n",
    "    import numpy as np "
   ]
  },
  {
   "cell_type": "code",
   "execution_count": null,
   "metadata": {},
   "outputs": [],
   "source": [
    "try:\n",
    "    from scipy import signal\n",
    "except:\n",
    "    !pip install scipy\n",
    "    from scipy import signal"
   ]
  },
  {
   "cell_type": "code",
   "execution_count": null,
   "metadata": {},
   "outputs": [],
   "source": [
    "try:\n",
    "    import cv2\n",
    "except:\n",
    "    !pip install opencv-python\n",
    "    import cv2"
   ]
  },
  {
   "cell_type": "code",
   "execution_count": null,
   "metadata": {},
   "outputs": [],
   "source": [
    "try:\n",
    "    import colored\n",
    "except:\n",
    "    !pip install colored\n",
    "    import colored"
   ]
  },
  {
   "cell_type": "code",
   "execution_count": null,
   "metadata": {},
   "outputs": [],
   "source": [
    "try:\n",
    "    from skimage import io\n",
    "except:\n",
    "    !pip install scikit-image\n",
    "    from skimage import io"
   ]
  },
  {
   "cell_type": "code",
   "execution_count": null,
   "metadata": {},
   "outputs": [],
   "source": [
    "try:\n",
    "    from scalar_quantization.deadzone_quantization import Deadzone_Quantizer as Quantizer                         \n",
    "except:\n",
    "    !pip install \"scalar_quantization @ git+https://github.com/vicente-gonzalez-ruiz/scalar_quantization\"\n",
    "    from scalar_quantization.deadzone_quantization import Deadzone_Quantizer as Quantizer"
   ]
  },
  {
   "cell_type": "code",
   "execution_count": null,
   "metadata": {},
   "outputs": [],
   "source": [
    "try:\n",
    "    #from color_transforms.YCoCg import from_RGB\n",
    "    #from color_transforms.YCoCg import to_RGB\n",
    "    #from color_transforms.YCoCg import name as YUV_name\n",
    "    from color_transforms import YCrCb\n",
    "    from color_transforms import YCoCg\n",
    "except:\n",
    "    !pip install \"color_transforms @ git+https://github.com/vicente-gonzalez-ruiz/color_transforms\"\n",
    "    #from color_transforms.YCoCg import from_RGB\n",
    "    #from color_transforms.YCoCg import to_RGB\n",
    "    #from color_transforms.YCoCg import name as YUV_name\n",
    "    from color_transforms import YCrCb\n",
    "    from color_transforms import YCoCg"
   ]
  },
  {
   "cell_type": "code",
   "execution_count": null,
   "metadata": {},
   "outputs": [],
   "source": [
    "try:\n",
    "    from information_theory import information\n",
    "    from information_theory import distortion\n",
    "except:\n",
    "    !pip install \"information_theory @ git+https://github.com/vicente-gonzalez-ruiz/information_theory\"\n",
    "    from information_theory import information\n",
    "    from information_theory import distortion"
   ]
  },
  {
   "cell_type": "code",
   "execution_count": null,
   "metadata": {
    "scrolled": false
   },
   "outputs": [],
   "source": [
    "try:\n",
    "    from image_IO import image_1 as gray_img\n",
    "    from image_IO import image_3 as RGB_img\n",
    "except:\n",
    "    !pip install \"image_IO @ git+https://github.com/vicente-gonzalez-ruiz/image_IO\"\n",
    "    from image_IO import image_1 as gray_img\n",
    "    from image_IO import image_3 as RGB_img"
   ]
  },
  {
   "cell_type": "markdown",
   "metadata": {},
   "source": [
    "!ln -sf ~/MRVC/src/frame.py .\n",
    "!ln -sf ~/MRVC/src/debug.py\n",
    "!ln -sf ~/MRVC/src/image_3.py\n",
    "!ln -sf ~/MRVC/src/image_1.py\n",
    "import deadzone as Q\n",
    "import YCrCb\n",
    "import YCoCg\n",
    "import distortion\n",
    "import information\n",
    "import image_3 as RGB_img\n",
    "import image_1 as gray_img\n",
    "import colored"
   ]
  },
  {
   "cell_type": "markdown",
   "metadata": {},
   "source": [
    "## Configuration area"
   ]
  },
  {
   "cell_type": "code",
   "execution_count": null,
   "metadata": {},
   "outputs": [],
   "source": [
    "fn = \"http://www.hpca.ual.es/~vruiz/images/lena.png\"\n",
    "Q_steps = 8\n",
    "components = ['R', 'G', 'B']"
   ]
  },
  {
   "cell_type": "code",
   "execution_count": null,
   "metadata": {},
   "outputs": [],
   "source": [
    "# Read the image and show it.\n",
    "\n",
    "#img = RGB_img.read(fn)\n",
    "img = io.imread(fn).astype(np.int16)\n",
    "print(img.max(), img.min())\n",
    "\n",
    "def show(img, title):\n",
    "    img = RGB_img.normalize(img)\n",
    "    plt.figure(figsize=(10,10))\n",
    "    plt.title(title, fontsize=20)\n",
    "    plt.imshow(img)\n",
    "\n",
    "show(img, fn + \"000.png\")"
   ]
  },
  {
   "cell_type": "code",
   "execution_count": null,
   "metadata": {},
   "outputs": [],
   "source": [
    "# Dead-zone quantizer & dequantizer.\n",
    "# \n",
    "# Notice that, although this is a dead-zone quantizer, we are not going\n",
    "# to work with negative samples, and therefore, the dead-zone\n",
    "# does not have any effect.\n",
    "\n",
    "\n",
    "def q_deq(x, quantization_step):\n",
    "    Q = Quantizer(Q_step=quantization_step)\n",
    "    k = Q.encode(x)\n",
    "    y = Q.decode(k)\n",
    "    return k, y"
   ]
  },
  {
   "cell_type": "code",
   "execution_count": null,
   "metadata": {},
   "outputs": [],
   "source": [
    "def show_gray(img, title):\n",
    "    img = gray_img.normalize(img)\n",
    "    plt.figure(figsize=(10,10))\n",
    "    plt.title(title, fontsize=20)\n",
    "    plt.imshow(img, cmap='gray')\n",
    "show_gray(img[:,:,0], \"stockholm (R component)\")\n",
    "show_gray(img[:,:,1], \"stockholm0000 (G component)\")\n",
    "show_gray(img[:,:,2], \"stockholm000 (B component)\")"
   ]
  },
  {
   "cell_type": "markdown",
   "metadata": {},
   "source": [
    "## YCrCb components"
   ]
  },
  {
   "cell_type": "code",
   "execution_count": null,
   "metadata": {
    "scrolled": true
   },
   "outputs": [],
   "source": [
    "YCrCb_img = YCrCb.from_RGB(img.astype(np.uint8))\n",
    "show_gray(YCrCb_img[:,:,0], \"stockholm000 (Y component, YCrCb domain)\")\n",
    "show_gray(YCrCb_img[:,:,1], \"stockholm000 (Cr component, YCrCb domain)\")\n",
    "show_gray(YCrCb_img[:,:,2], \"stockholm000 (Cb component)\")"
   ]
  },
  {
   "cell_type": "markdown",
   "metadata": {},
   "source": [
    "### Is the YCrCb reversible?"
   ]
  },
  {
   "cell_type": "code",
   "execution_count": null,
   "metadata": {},
   "outputs": [],
   "source": [
    "print(YCrCb_img.shape)\n",
    "img2 = YCrCb.to_RGB(YCrCb_img)\n",
    "print(np.array_equal(img, img2))\n",
    "print(img.max(), img.min())\n",
    "print(YCrCb_img.max(), YCrCb_img.min(), np.average(YCrCb_img))\n",
    "show(img, \"stockholm000 (original)\")\n",
    "show(img2, \"stockholm000 (reconstructed through YCoCg)\")\n",
    "show(img-img2, 'stockholm000 - YCrCb.to\\_RGB(YCrCb.from\\_RGB(stockholm000))')"
   ]
  },
  {
   "cell_type": "markdown",
   "metadata": {},
   "source": [
    "## YCoCg components"
   ]
  },
  {
   "cell_type": "code",
   "execution_count": null,
   "metadata": {},
   "outputs": [],
   "source": [
    "YCoCg_img = YCoCg.from_RGB(img.astype(np.int16))\n",
    "show_gray(YCoCg_img[:,:,0], \"stockholm000 (Y component)\")\n",
    "show_gray(YCoCg_img[:,:,1], \"stockholm000 (Co component)\")\n",
    "show_gray(YCoCg_img[:,:,2], \"stockholm000 (Cg component)\")"
   ]
  },
  {
   "cell_type": "markdown",
   "metadata": {},
   "source": [
    "### Is the YCoCg reversible?"
   ]
  },
  {
   "cell_type": "code",
   "execution_count": null,
   "metadata": {},
   "outputs": [],
   "source": [
    "img2 = YCoCg.to_RGB(YCoCg_img)\n",
    "print(np.array_equal(img, img2))\n",
    "print(img.max(), img.min())\n",
    "print(YCoCg_img.max(), YCoCg_img.min(), np.average(YCoCg_img))\n",
    "show(img, \"stockholm000 (original)\")\n",
    "show(img2, \"stockholm000 (reconstructed through YCoCg)\")\n",
    "show(img-img2, 'stockholm000 - YCoCg.to\\_RGB(YCoCg.from\\_RGB(stockholm000))')"
   ]
  },
  {
   "cell_type": "markdown",
   "metadata": {},
   "source": [
    "## Gains of the YCrCb synthesis filters "
   ]
  },
  {
   "cell_type": "code",
   "execution_count": null,
   "metadata": {},
   "outputs": [],
   "source": [
    "val = 10\n",
    "delta_YCrCb = np.array([val, 0, 0]).astype(np.uint8).reshape(1,1,3)\n",
    "delta_RGB = YCrCb.to_RGB(delta_YCrCb)\n",
    "print(\"delta_YCrCb =\", delta_YCrCb, \"delta_RGB =\", delta_RGB, \"Y gain =\", information.average_energy(delta_RGB))\n",
    "\n",
    "delta_YCrCb = np.array([0, val, 0]).astype(np.uint8).reshape(1,1,3)\n",
    "delta_RGB = YCrCb.to_RGB(delta_YCrCb)\n",
    "print(\"delta_YCrCb =\", delta_YCrCb, \"delta_RGB =\", delta_RGB, \"Cr gain =\", information.average_energy(delta_RGB))\n",
    "\n",
    "delta_YCrCb = np.array([0, 0, val]).astype(np.uint8).reshape(1,1,3)\n",
    "delta_RGB = YCrCb.to_RGB(delta_YCrCb)\n",
    "print(\"delta_YCrCb =\", delta_YCrCb, \"delta_RGB =\", delta_RGB, \"Cb gain =\", information.average_energy(delta_RGB))\n",
    "\n",
    "delta_YCrCb = np.array([val, val, val]).astype(np.uint8).reshape(1,1,3)\n",
    "delta_RGB = YCrCb.to_RGB(delta_YCrCb)\n",
    "print(\"delta_YCrCb =\", delta_YCrCb, \"delta_RGB =\", delta_RGB, \"Total gain =\", information.average_energy(delta_RGB))"
   ]
  },
  {
   "cell_type": "markdown",
   "metadata": {},
   "source": [
    "As we can see, the energy of the components in the YCrCb domain is not additive (the same happens with the distortion generated by the quantization)."
   ]
  },
  {
   "cell_type": "code",
   "execution_count": null,
   "metadata": {},
   "outputs": [],
   "source": [
    "val = 10\n",
    "delta_YCoCg = np.array([val, 0, 0]).reshape(1,1,3)\n",
    "delta_RGB = YCoCg.to_RGB(delta_YCoCg)\n",
    "print(\"delta_YCoCg =\", delta_YCoCg, \"delta_RGB =\", delta_RGB, \"Y gain =\", information.average_energy(delta_RGB))\n",
    "\n",
    "delta_YCoCg = np.array([0, val, 0]).reshape(1,1,3)\n",
    "delta_RGB = YCoCg.to_RGB(delta_YCoCg)\n",
    "print(\"delta_YCoCg =\", delta_YCoCg, \"delta_RGB =\", delta_RGB, \"Cr gain =\", information.average_energy(delta_RGB))\n",
    "\n",
    "delta_YCoCg = np.array([0, 0, val]).reshape(1,1,3)\n",
    "delta_RGB = YCoCg.to_RGB(delta_YCoCg)\n",
    "print(\"delta_YCoCg =\", delta_YCoCg, \"delta_RGB =\", delta_RGB, \"Cb gain =\", information.average_energy(delta_RGB))\n",
    "\n",
    "delta_YCoCg = np.array([val, val, val]).reshape(1,1,3)\n",
    "delta_RGB = YCoCg.to_RGB(delta_YCoCg)\n",
    "print(\"delta_YCoCg =\", delta_YCoCg, \"delta_RGB =\", delta_RGB, \"Total gain =\", information.average_energy(delta_RGB))"
   ]
  },
  {
   "cell_type": "markdown",
   "metadata": {},
   "source": [
    "With the YCoCg happens the same (the energy of the components is not additive). The gains matches with the theory."
   ]
  },
  {
   "cell_type": "markdown",
   "metadata": {},
   "source": [
    "### Energy of the RGB channels"
   ]
  },
  {
   "cell_type": "code",
   "execution_count": null,
   "metadata": {},
   "outputs": [],
   "source": [
    "R_energy = information.average_energy(img[:,:,0])\n",
    "G_energy = information.average_energy(img[:,:,1])\n",
    "B_energy = information.average_energy(img[:,:,2])\n",
    "print(\"Energy of R =\", R_energy)\n",
    "print(\"Energy of G =\", G_energy)\n",
    "print(\"Energy of B =\", B_energy)"
   ]
  },
  {
   "cell_type": "markdown",
   "metadata": {},
   "source": [
    "### Energy of the YCrCb channels"
   ]
  },
  {
   "cell_type": "code",
   "execution_count": null,
   "metadata": {},
   "outputs": [],
   "source": [
    "YCrCb_frame = YCrCb.from_RGB(img.astype(np.uint8))\n",
    "Y_energy = information.average_energy(YCrCb_frame[:,:,0])\n",
    "Cr_energy = information.average_energy(YCrCb_frame[:,:,1])\n",
    "Cb_energy = information.average_energy(YCrCb_frame[:,:,2])\n",
    "print(\"Energy of Y =\", Y_energy)\n",
    "print(\"Energy of Cr =\", Cr_energy)\n",
    "print(\"Energy of Cb =\", Cb_energy)"
   ]
  },
  {
   "cell_type": "markdown",
   "metadata": {},
   "source": [
    "### Energy of the YCoCg channels"
   ]
  },
  {
   "cell_type": "code",
   "execution_count": null,
   "metadata": {},
   "outputs": [],
   "source": [
    "YCoCg_frame = YCoCg.from_RGB(img.astype(np.int16))\n",
    "Y_energy = information.average_energy(YCoCg_frame[:,:,0])\n",
    "Co_energy = information.average_energy(YCoCg_frame[:,:,1])\n",
    "Cg_energy = information.average_energy(YCoCg_frame[:,:,2])\n",
    "print(\"Energy of Y =\", Y_energy)\n",
    "print(\"Energy of Co =\", Co_energy)\n",
    "print(\"Energy of Cg =\", Cg_energy)"
   ]
  },
  {
   "cell_type": "markdown",
   "metadata": {},
   "source": [
    "The energy is more concentrated in the YCoCg domain, more specifically in the Y channel."
   ]
  },
  {
   "cell_type": "markdown",
   "metadata": {},
   "source": [
    "## Generation of the optimal RD curve\n",
    "\n",
    "The optimal RD curve can be generated with:\n",
    "\n",
    "1. Convert the image from RGB to YUV.\n",
    "2. The RD curve of each YUV channel is computed, for a number of quantization steps.\n",
    "3. The OTP (Optimal Truncation Points) are sorted by slopes."
   ]
  },
  {
   "cell_type": "markdown",
   "metadata": {},
   "source": [
    "## Some helper functions"
   ]
  },
  {
   "cell_type": "code",
   "execution_count": null,
   "metadata": {},
   "outputs": [],
   "source": [
    "# Number of bytes that a img \"img\" requires in disk.\n",
    "def bytes_per_RGB_img(img, fn=\"img\"):\n",
    "    RGB_img.write(img, \"/tmp/\" + fn + \".png\")\n",
    "    length_in_bytes = os.path.getsize(\"/tmp/\" + fn + \".png\")\n",
    "    return length_in_bytes\n",
    "\n",
    "# The same value, but in bits/pixel.\n",
    "def bits_per_RGB_pixel(img, fn=\"img\"):\n",
    "    return 8*bytes_per_RGB_img(img, fn)/(img.shape[0]*img.shape[1])\n",
    "\n",
    "# Specific version for grayscale images.\n",
    "def bytes_per_gray_img(img, fn=\"img\"):\n",
    "    cv2.imwrite(\"/tmp/\" + fn + \".png\", img)\n",
    "    length_in_bytes = os.path.getsize(\"/tmp/\" + fn + \".png\")\n",
    "    print(colored.fore.GREEN + f\"bytes_per_gray_img: /tmp/{fn}.png\", img.shape, img.dtype, length_in_bytes, colored.style.RESET)\n",
    "    return length_in_bytes\n",
    "\n",
    "# The same value, but in bits/pixel.\n",
    "def bits_per_gray_pixel(img, fn=\"img\"):\n",
    "    return 8*bytes_per_gray_img(img, fn)/(img.shape[0]*img.shape[1])"
   ]
  },
  {
   "cell_type": "markdown",
   "metadata": {},
   "source": [
    "## Build the optimal RD curve\n",
    "\n",
    "Neither YCrCb nor YCoCg are orthogonal spaces, which means that even considering the channel gains, the contributions of the channels to the quality of the reconstruction are not additive (the channels are not independent). This implies that the search of the optimal QSs cannot be done by simply sorting the slopes of each OTP of each channel, but by searching for each OTP the best combination of QSs, that not necessarily need to be embbeded (i.e., it can not be asserted that the optimal QSs for a quality level Q generated by a combination $[\\Delta_Y^Q, \\Delta_U^Q, \\Delta_V^Q]$ > $[\\Delta_Y^{Q+1}, \\Delta_U^{Q+1}, \\Delta_V^{Q+1}]$, for all the channels). Unfortunately, this fact significantly complicates the optimal bit-rate control through quantization. \n",
    "\n",
    "A way to deal with this problem is ignore the orthogonality lack (well, the YCoCg transform is almost orthogonal, and therefore, we are not supposing something terribly wrong). This is that we are going to implement."
   ]
  },
  {
   "cell_type": "markdown",
   "metadata": {},
   "source": [
    "## RD curves of each YCrCb channel\n",
    "Notice that we compute the distortion in the RGB domain because the transform is not orthogonal. The bit-rate is computed using only the corresponding channel. Remember that the quantization indexes images need to be normalized or equalized to be displayed properly."
   ]
  },
  {
   "cell_type": "code",
   "execution_count": null,
   "metadata": {},
   "outputs": [],
   "source": [
    "def Yrb_RD_curve(RGB_img, Q_steps):\n",
    "    RD_points = []\n",
    "    for q in range(Q_steps-1, -1, -1):\n",
    "        YCrCb_img = YCrCb.from_RGB(RGB_img.astype(np.uint8))\n",
    "        Y_img = YCrCb_img[:,:,0]\n",
    "        dequantized_Y_img = np.empty_like(Y_img)\n",
    "        Q_step = 1 << q\n",
    "        k, dequantized_Y_img = q_deq(Y_img, Q_step)\n",
    "        rate = bits_per_gray_pixel(k, 'Yrb' + str(Q_step) + '_')\n",
    "        #_distortion = distortion.MSE(Y_img, dequantized_Y_img)\n",
    "        YCrCb_img[...,0] = dequantized_Y_img\n",
    "        dequantized_RGB_img = YCrCb.to_RGB(YCrCb_img)\n",
    "        _distortion = distortion.MSE(RGB_img, dequantized_RGB_img)\n",
    "        RD_points.append((rate, _distortion, 'Yrb', Q_step))\n",
    "        print(f\"q_step={Q_step:>3}, rate={rate:.3f} bits/pixel, distortion={_distortion}\")\n",
    "    return RD_points\n",
    "\n",
    "def Cr_RD_curve(RGB_img, Q_steps):\n",
    "    RD_points = []\n",
    "    for q in range(Q_steps-1, -1, -1):\n",
    "        YCrCb_img = YCrCb.from_RGB(RGB_img.astype(np.uint8))\n",
    "        Cr_img = YCrCb_img[:,:,1]\n",
    "        dequantized_Cr_img = np.empty_like(Cr_img)\n",
    "        Q_step = 1 << q\n",
    "        k, dequantized_Cr_img = q_deq(Cr_img, Q_step)\n",
    "        rate = bits_per_gray_pixel(k, 'Cr' + str(Q_step) + '_')\n",
    "        #_distortion = distortion.MSE(Cr_img, dequantized_Cr_img)\n",
    "        YCrCb_img[...,1] = dequantized_Cr_img\n",
    "        dequantized_RGB_img = YCrCb.to_RGB(YCrCb_img)\n",
    "        _distortion = distortion.MSE(RGB_img, dequantized_RGB_img)\n",
    "        RD_points.append((rate, _distortion, 'Cr', Q_step))\n",
    "        print(f\"q_step={Q_step:>3}, rate={rate:.3f} bits/pixel, distortion={_distortion}\")\n",
    "    return RD_points\n",
    "\n",
    "def Cb_RD_curve(RGB_img, Q_steps):\n",
    "    RD_points = []\n",
    "    for q in range(Q_steps-1, -1, -1):\n",
    "        YCrCb_img = YCrCb.from_RGB(RGB_img.astype(np.uint8))\n",
    "        Cb_img = YCrCb_img[:,:,2]\n",
    "        dequantized_Cb_img = np.empty_like(Cb_img)\n",
    "        Q_step = 1 << q\n",
    "        k, dequantized_Cb_img = q_deq(Cb_img, Q_step)\n",
    "        rate = bits_per_gray_pixel(k, 'Cb' + str(Q_step) + '_')\n",
    "        #_distortion = distortion.MSE(Cb_img, dequantized_Cb_img)\n",
    "        YCrCb_img[...,2] = dequantized_Cb_img\n",
    "        dequantized_RGB_img = YCrCb.to_RGB(YCrCb_img)\n",
    "        _distortion = distortion.MSE(RGB_img, dequantized_RGB_img)        \n",
    "        RD_points.append((rate, _distortion, 'Cb', Q_step))\n",
    "        print(f\"q_step={Q_step:>3}, rate={rate:.3f} bits/pixel, distortion={_distortion}\")\n",
    "    return RD_points\n",
    "\n",
    "Yrb_points = Yrb_RD_curve(img, Q_steps)\n",
    "Cr_points = Cr_RD_curve(img, Q_steps)\n",
    "Cb_points = Cb_RD_curve(img, Q_steps)"
   ]
  },
  {
   "cell_type": "code",
   "execution_count": null,
   "metadata": {},
   "outputs": [],
   "source": [
    "pylab.figure(dpi=150)\n",
    "#pylab.plot(*zip(*YCrCb_points), c='m', marker=\"x\",\n",
    "#           label='$\\Delta_{\\mathrm{Y}} = \\Delta_{\\mathrm{Cr}} = \\Delta_{\\mathrm{Cb}}$')\n",
    "pylab.plot(*zip(*[(i[0], i[1]) for i in Yrb_points]), c='r', marker=\"o\", label='Only Y')              \n",
    "pylab.plot(*zip(*[(i[0], i[1]) for i in Cr_points]), c='g', marker=\"o\",\n",
    "           label='Only Cr')              \n",
    "pylab.plot(*zip(*[(i[0], i[1]) for i in Cb_points]), c='b', marker=\"o\",\n",
    "           label='Only Cb')              \n",
    "pylab.title(\"RD Performance\")\n",
    "pylab.xlabel(\"Bits/Pixel\")\n",
    "pylab.ylabel(\"MSE\")\n",
    "plt.legend(loc='upper right')\n",
    "pylab.show()"
   ]
  },
  {
   "cell_type": "markdown",
   "metadata": {},
   "source": [
    "Conclusions:\n",
    "1. The distortions are not additive.\n",
    "2. The slopes of the curves for different quantization steps are different."
   ]
  },
  {
   "cell_type": "markdown",
   "metadata": {},
   "source": [
    "### RD curves of each YCoCg channel"
   ]
  },
  {
   "cell_type": "code",
   "execution_count": null,
   "metadata": {},
   "outputs": [],
   "source": [
    "def Yog_RD_curve(RGB_img, Q_steps):\n",
    "    RD_points = []\n",
    "    for q in range(Q_steps-1, -1, -1):\n",
    "        YCoCg_img = YCoCg.from_RGB(RGB_img.astype(np.int16))\n",
    "        Y_img = YCoCg_img[:,:,0]\n",
    "        dequantized_Y_img = np.empty_like(Y_img)\n",
    "        Q_step = 1 << q\n",
    "        k, dequantized_Y_img = q_deq(Y_img, Q_step)\n",
    "        k = k.astype(np.uint8)\n",
    "        rate = bits_per_gray_pixel(k, 'Yog' + str(Q_step) + '_')\n",
    "        #_distortion = distortion.MSE(Y_img, dequantized_Y_img)\n",
    "        YCoCg_img[...,0] = dequantized_Y_img\n",
    "        dequantized_RGB_img = YCoCg.to_RGB(YCoCg_img)\n",
    "        _distortion = distortion.MSE(RGB_img, dequantized_RGB_img)        \n",
    "        RD_points.append((rate, _distortion, 'Yog', Q_step))\n",
    "        print(f\"Q_step={Q_step:>3}, rate={rate:.3f} bits/pixel, distortion={_distortion}\")\n",
    "    return RD_points\n",
    "\n",
    "def Co_RD_curve(RGB_img, Q_steps):\n",
    "    RD_points = []\n",
    "    for q in range(Q_steps-1, -1, -1):\n",
    "        YCoCg_img = YCoCg.from_RGB(RGB_img.astype(np.int16))\n",
    "        Co_img = YCoCg_img[:,:,1]\n",
    "        dequantized_Co_img = np.empty_like(Co_img)\n",
    "        Q_step = 1 << q\n",
    "        k, dequantized_Co_img = q_deq(Co_img, Q_step)\n",
    "        k = k.astype(np.uint8)\n",
    "        rate = bits_per_gray_pixel(k, 'Co' + str(Q_step) + '_')\n",
    "        #_distortion = distortion.MSE(Co_img, dequantized_Co_img)\n",
    "        YCoCg_img[...,1] = dequantized_Co_img\n",
    "        dequantized_RGB_img = YCoCg.to_RGB(YCoCg_img)\n",
    "        _distortion = distortion.MSE(RGB_img, dequantized_RGB_img)        \n",
    "        RD_points.append((rate, _distortion, 'Co', Q_step))\n",
    "        print(f\"Q_step={Q_step:>3}, rate={rate:.3f} bits/pixel, distortion={_distortion}\")\n",
    "    return RD_points\n",
    "\n",
    "def Cg_RD_curve(RGB_img, Q_steps):\n",
    "    RD_points = []\n",
    "    for q in range(Q_steps-1, -1, -1):\n",
    "        YCoCg_img = YCoCg.from_RGB(RGB_img.astype(np.int16))\n",
    "        Cg_img = YCoCg_img[:,:,2]\n",
    "        dequantized_Cg_img = np.empty_like(Cg_img)\n",
    "        Q_step = 1 << q\n",
    "        k, dequantized_Cg_img = q_deq(Cg_img, Q_step)\n",
    "        k = k.astype(np.uint8)\n",
    "        rate = bits_per_gray_pixel(k, 'Cg' + str(Q_step) + '_')\n",
    "        #_distortion = distortion.MSE(Cg_img, dequantized_Cg_img)\n",
    "        YCoCg_img[...,2] = dequantized_Cg_img\n",
    "        dequantized_RGB_img = YCoCg.to_RGB(YCoCg_img)\n",
    "        _distortion = distortion.MSE(RGB_img, dequantized_RGB_img)        \n",
    "        RD_points.append((rate, _distortion, 'Cg', Q_step))\n",
    "        print(f\"Q_step={Q_step:>3}, rate={rate:.3f} bits/pixel, distortion={_distortion}\")\n",
    "    return RD_points\n",
    "\n",
    "Yog_points = Yog_RD_curve(img, Q_steps)\n",
    "Co_points = Co_RD_curve(img, Q_steps)\n",
    "Cg_points = Cg_RD_curve(img, Q_steps)"
   ]
  },
  {
   "cell_type": "code",
   "execution_count": null,
   "metadata": {},
   "outputs": [],
   "source": [
    "pylab.figure(dpi=150)\n",
    "#pylab.plot(*zip(*YCoCg_points), c='m', marker=\"x\",\n",
    "#           label='$\\Delta_{\\mathrm{Y}} = \\Delta_{\\mathrm{Co}} = \\Delta_{\\mathrm{Cg}}$')\n",
    "pylab.plot(*zip(*[(i[0], i[1]) for i in Yog_points]), c='r', marker=\"o\", label='Only Y')              \n",
    "pylab.plot(*zip(*[(i[0], i[1]) for i in Co_points]), c='g', marker=\"o\",\n",
    "           label='Only Co')              \n",
    "pylab.plot(*zip(*[(i[0], i[1]) for i in Cg_points]), c='b', marker=\"o\",\n",
    "           label='Only Cb')              \n",
    "pylab.title(\"RD Performance\")\n",
    "pylab.xlabel(\"Bits/Pixel\")\n",
    "pylab.ylabel(\"MSE\")\n",
    "plt.legend(loc='upper right')\n",
    "pylab.show()"
   ]
  },
  {
   "cell_type": "markdown",
   "metadata": {},
   "source": [
    "Conclusions:\n",
    "1. The distortions are not additive.\n",
    "2. The slopes of the curves for different quantization steps are different.\n",
    "3. The channel Y should be quantized less."
   ]
  },
  {
   "cell_type": "markdown",
   "metadata": {},
   "source": [
    "## Compute the slopes\n",
    "In a different list for each component."
   ]
  },
  {
   "cell_type": "code",
   "execution_count": null,
   "metadata": {},
   "outputs": [],
   "source": [
    "def compute_slopes(RD_points):\n",
    "    extended_RD_points = [(0.0, 0.0, '', -1)] + RD_points\n",
    "    counter = 0\n",
    "    RD_slopes = [(9.0E9, RD_points[0])]\n",
    "    points_iterator = iter(RD_points)\n",
    "    next(points_iterator)\n",
    "    for i in points_iterator:\n",
    "        BPP = i[0] # Rate \n",
    "        delta_BPP = BPP - RD_points[counter][0]\n",
    "        MSE = i[1] # Distortion\n",
    "        delta_MSE = MSE - RD_points[counter][1] \n",
    "        if delta_BPP > 0:\n",
    "            slope = abs(delta_MSE/delta_BPP)\n",
    "        else:\n",
    "            slope = 0\n",
    "        component = i[2]\n",
    "        q_step = i[3]\n",
    "        print((slope, i), delta_MSE, delta_BPP)\n",
    "        RD_slopes.append((slope, i))\n",
    "        counter += 1\n",
    "    return RD_slopes\n",
    "\n",
    "Yrb_slopes = compute_slopes(Yrb_points)\n",
    "Cr_slopes = compute_slopes(Cr_points)\n",
    "Cb_slopes = compute_slopes(Cb_points)\n",
    "\n",
    "Yog_slopes = compute_slopes(Yog_points)\n",
    "Co_slopes = compute_slopes(Co_points)\n",
    "Cg_slopes = compute_slopes(Cg_points)"
   ]
  },
  {
   "cell_type": "markdown",
   "metadata": {},
   "source": [
    "## Merge the RD slopes and sort them\n",
    "By slope."
   ]
  },
  {
   "cell_type": "code",
   "execution_count": null,
   "metadata": {},
   "outputs": [],
   "source": [
    "all_YCrCb_slopes = Yrb_slopes + Cr_slopes + Cb_slopes\n",
    "sorted_YCrCb_slopes = sorted(all_YCrCb_slopes, key=lambda x: x[0])[::-1]\n",
    "\n",
    "all_YCoCg_slopes = Yog_slopes + Co_slopes + Cg_slopes\n",
    "sorted_YCoCg_slopes = sorted(all_YCoCg_slopes, key=lambda x: x[0])[::-1]"
   ]
  },
  {
   "cell_type": "markdown",
   "metadata": {},
   "source": [
    "## Build the sub-optimal RD curve\n",
    "\n",
    "Progressively quantize the image using the Q_steps described in the sorted list of monotonously decreasing slopes, and then, compute the distortion and the bit-rate. Remember that the quantization indexes images must be normalized or equalized to be displayed properly, and also, that they are in the YUV domain."
   ]
  },
  {
   "cell_type": "code",
   "execution_count": null,
   "metadata": {},
   "outputs": [],
   "source": [
    "# Falta hacer la transformada!!\n",
    "\n",
    "def YCrCb_get_suboptimal_RD_curve(RGB_img, sorted_slopes, components):\n",
    "    points = []\n",
    "    Q_steps_per_component = [256, 256, 256] # This should generate a black image.\n",
    "    k = np.empty_like(RGB_img)\n",
    "    y = np.empty_like(RGB_img)\n",
    "    YCrCb_img = YCrCb.from_RGB(RGB_img.astype(np.uint8))\n",
    "    for i in sorted_slopes:\n",
    "        point = i[1]\n",
    "        component = point[2]\n",
    "        Q_step = point[3]\n",
    "        Q_steps_per_component[components.index(component)] = Q_step\n",
    "        #print(i, Q_steps_per_component)\n",
    "        for c,Q_step in zip(components, Q_steps_per_component):\n",
    "            k[..., components.index(c)], y[..., components.index(c)] = q_deq(YCrCb_img[..., components.index(c)], Q_step)\n",
    "        k = k.astype(np.uint8)\n",
    "        rate = bits_per_RGB_pixel(k, str(Q_steps_per_component))\n",
    "        #_distortion = distortion.MSE(YCrCb_img, y)\n",
    "        #YCoCg_img[...,2] = dequantized_Cg_img\n",
    "        dequantized_RGB_img = YCrCb.to_RGB(y.astype(np.uint8))\n",
    "        _distortion = distortion.MSE(RGB_img, dequantized_RGB_img)        \n",
    "        points.append((rate, _distortion))\n",
    "        print(f\"Q_step={Q_steps_per_component}, rate={rate:>7} bits/pixel, distortion={_distortion:>6.1f}\")\n",
    "    return points\n",
    "\n",
    "def YCoCg_get_suboptimal_RD_curve(RGB_img, sorted_slopes, components):\n",
    "    points = []\n",
    "    Q_steps_per_component = [256, 256, 256] # This should generate a black image.\n",
    "    k = np.empty_like(RGB_img)\n",
    "    y = np.empty_like(RGB_img)\n",
    "    YCrCb_img = YCoCg.from_RGB(RGB_img.astype(np.int16))\n",
    "    for i in sorted_slopes:\n",
    "        point = i[1]\n",
    "        component = point[2]\n",
    "        Q_step = point[3]\n",
    "        Q_steps_per_component[components.index(component)] = Q_step\n",
    "        #print(i, Q_steps_per_component)\n",
    "        for c,Q_step in zip(components, Q_steps_per_component):\n",
    "            k[..., components.index(c)], y[..., components.index(c)] = q_deq(YCrCb_img[..., components.index(c)], Q_step)\n",
    "        k = k.astype(np.uint8)\n",
    "        rate = bits_per_RGB_pixel(k, str(Q_steps_per_component))\n",
    "        #_distortion = distortion.MSE(YCrCb_img, y)\n",
    "        #YCoCg_img[...,2] = dequantized_Cg_img\n",
    "        dequantized_RGB_img = YCoCg.to_RGB(y)\n",
    "        _distortion = distortion.MSE(RGB_img, dequantized_RGB_img)        \n",
    "        points.append((rate, _distortion))\n",
    "        print(f\"Q_step={Q_steps_per_component}, rate={rate:>7} bits/pixel, distortion={_distortion:>6.1f}\")\n",
    "    return points\n",
    "\n",
    "YCrCb_suboptimal_points = YCrCb_get_suboptimal_RD_curve(img, sorted_YCrCb_slopes, ['Yrb', 'Cr', 'Cb'])\n",
    "YCoCg_suboptimal_points = YCoCg_get_suboptimal_RD_curve(img, sorted_YCoCg_slopes, ['Yog', 'Co', 'Cg'])"
   ]
  },
  {
   "cell_type": "markdown",
   "metadata": {},
   "source": [
    "## Optimal quantization in the RGB domain\n",
    "See [RGB_quantization.ipynb](file:///home/vruiz/Sistemas-Multimedia.github.io/milestones/05-RGB_quantization/RGB_quantization.ipynb)."
   ]
  },
  {
   "cell_type": "code",
   "execution_count": null,
   "metadata": {},
   "outputs": [],
   "source": [
    "RGB_points = []\n",
    "with open('../05-RGB_quantization/RGB.txt', 'r') as f:\n",
    "    #rate, _distortion = f.read()\n",
    "    #RGB_points.append((rate, _distortion))\n",
    "    for line in f:\n",
    "        rate, _distortion = line.split('\\t')\n",
    "        RGB_points.append((float(rate), float(_distortion)))"
   ]
  },
  {
   "cell_type": "markdown",
   "metadata": {},
   "source": [
    "## RD curve using same $\\Delta$ for each YUV channel ($\\Delta_{\\text{Y}} = \\Delta_{\\text{U}} = \\Delta_{\\text{V}}$)"
   ]
  },
  {
   "cell_type": "code",
   "execution_count": null,
   "metadata": {
    "scrolled": false
   },
   "outputs": [],
   "source": [
    "def YCrCb_RD_curve_same_delta(RGB_img):\n",
    "    RD_points = []\n",
    "    for q in range(0, 8):\n",
    "        YCrCb_img = YCrCb.from_RGB(RGB_img.astype(np.uint8))\n",
    "        #YCrCb_img = YCrCb_img.astype(np.int16)\n",
    "        k, dequantized_YCrCb_img = q_deq(YCrCb_img, 1<<q)\n",
    "        k = k.astype(np.uint8)\n",
    "        #show(dequantized_YCrCb_img, q_step)\n",
    "        rate = bits_per_RGB_pixel(k, \"YCrCb\" + str(1<<q) + \"_\")\n",
    "        dequantized_RGB_img = YCrCb.to_RGB(dequantized_YCrCb_img.astype(np.uint8))\n",
    "        _distortion = distortion.MSE(RGB_img, dequantized_RGB_img)\n",
    "        RD_points.append((rate, _distortion))\n",
    "        print(f\"Q_step={1<<q:>3}, rate={rate:>7} bits/pixel, distortion={_distortion:>6.1f}\")\n",
    "    return RD_points\n",
    "\n",
    "YCrCb_points_same_delta = YCrCb_RD_curve_same_delta(img)"
   ]
  },
  {
   "cell_type": "code",
   "execution_count": null,
   "metadata": {},
   "outputs": [],
   "source": [
    "with open('YCrCb.txt', 'w') as f:\n",
    "    for item in YCrCb_points_same_delta:\n",
    "        f.write(f\"{item[0]}\\t{item[1]}\\n\")"
   ]
  },
  {
   "cell_type": "code",
   "execution_count": null,
   "metadata": {
    "scrolled": false
   },
   "outputs": [],
   "source": [
    "def YCoCg_RD_curve_same_delta(RGB_frame):\n",
    "    RD_points = []\n",
    "    for q in range(0, 8):\n",
    "        YCoCg_frame = YCoCg.from_RGB(RGB_frame.astype(np.int16))\n",
    "        k, dequantized_YCoCg_frame = q_deq(YCoCg_frame, 1<<q)\n",
    "        k = k.astype(np.uint8)\n",
    "        rate = bits_per_RGB_pixel(k, \"YCoCg\" + str(1<<q) + \"_\")\n",
    "        dequantized_RGB_frame = YCoCg.to_RGB(dequantized_YCoCg_frame.astype(np.int16))\n",
    "        _distortion = distortion.MSE(RGB_frame, dequantized_RGB_frame)\n",
    "        RD_points.append((rate, _distortion))\n",
    "        print(f\"Q_step={1<<q:>3}, rate={rate:>7} bits/pixel, distortion={_distortion:>6.1f}\")\n",
    "    return RD_points\n",
    "\n",
    "YCoCg_points_same_delta = YCoCg_RD_curve_same_delta(img)"
   ]
  },
  {
   "cell_type": "code",
   "execution_count": null,
   "metadata": {},
   "outputs": [],
   "source": [
    "with open('YCoCg.txt', 'w') as f:\n",
    "    for item in YCoCg_points_same_delta:\n",
    "        f.write(f\"{item[0]}\\t{item[1]}\\n\")"
   ]
  },
  {
   "cell_type": "markdown",
   "metadata": {},
   "source": [
    "## Let's compare!"
   ]
  },
  {
   "cell_type": "code",
   "execution_count": null,
   "metadata": {},
   "outputs": [],
   "source": [
    "pylab.figure(dpi=150)\n",
    "#pylab.plot(*zip(*RGB_points), marker=\"o\", label=\"$\\Delta_{\\mathrm{R}}=\\Delta_{\\mathrm{G}}=\\Delta_{\\mathrm{B}}}$\")\n",
    "pylab.plot(*zip(*YCrCb_points_same_delta), marker=\"o\", label=\"$\\Delta_{\\mathrm{Y}}=\\Delta_{\\mathrm{Cr}}=\\Delta_{\\mathrm{Cb}}}$\")\n",
    "pylab.plot(*zip(*YCoCg_points_same_delta), marker=\"o\", label=\"$\\Delta_{\\mathrm{Y}}=\\Delta_{\\mathrm{Co}}=\\Delta_{\\mathrm{Cg}}}$\")\n",
    "pylab.plot(*zip(*YCrCb_suboptimal_points), marker=\"o\", label=\"Suboptimal YCrCb\")\n",
    "pylab.plot(*zip(*YCoCg_suboptimal_points), marker=\"o\", label=\"Suboptimal YCoCg\")\n",
    "pylab.title(\"Rate/Distortion Performance \")\n",
    "pylab.xlabel(\"Bits/Pixel\")\n",
    "pylab.ylabel(\"MSE\")\n",
    "pylab.legend(loc='upper right')\n",
    "pylab.show()"
   ]
  },
  {
   "cell_type": "markdown",
   "metadata": {},
   "source": [
    "## Conclusions:\n",
    "1. In general, quantization is more effective in the transformed domain.\n",
    "2. At low bit-rates, it's better to quantize in YCoCb domain than to quantize in the YCrCb one. "
   ]
  },
  {
   "cell_type": "markdown",
   "metadata": {},
   "source": [
    "### RD using channel gains in YCoCg domain"
   ]
  },
  {
   "cell_type": "code",
   "execution_count": null,
   "metadata": {},
   "outputs": [],
   "source": [
    "def YCoCg_RD_curve(RGB_img):\n",
    "    RD_points = []\n",
    "    #for q_step in range(0, 8):\n",
    "    for Q_step in range(1, 256, 16):\n",
    "        YCoCg_img = YCoCg.from_RGB(RGB_img.astype(np.int16))\n",
    "        #k, dequantized_YCoCg_img = q_deq(YCoCg_img, 1<<q_step)\n",
    "        k, dequantized_YCoCg_img = q_deq(YCoCg_img, Q_step)\n",
    "        k = k.astype(np.uint8)\n",
    "        rate = bits_per_RGB_pixel(k)\n",
    "        dequantized_RGB_img = YCoCg.to_RGB(dequantized_YCoCg_img)\n",
    "        _distortion = distortion.MSE(RGB_img, dequantized_RGB_img)\n",
    "        RD_points.append((rate, _distortion))\n",
    "        print(f\"Q_step={Q_step:>3}, rate={rate:>7} BPS, distortion={_distortion:>6.1f}\")\n",
    "    return RD_points\n",
    "\n",
    "YCoCg_points = YCoCg_RD_curve(img)\n",
    "\n",
    "relative_Y_gain = 3/2\n",
    "relative_Co_gain = 1\n",
    "relative_Cg_gain = 3/2\n",
    "def YCoCg_RD_curve_with_gains(RGB_img):\n",
    "    RD_points = []\n",
    "    #for q_step in range(0, 8):\n",
    "    for Q_step in range(1, 256, 16):\n",
    "        YCoCg_img = YCoCg.from_RGB(RGB_img.astype(np.int16))\n",
    "        dequantized_YCoCg_img = np.empty_like(YCoCg_img)\n",
    "        k = np.empty_like(YCoCg_img, dtype=np.uint8)\n",
    "        k[:,:,0], dequantized_YCoCg_img[:,:,0] = q_deq(YCoCg_img[:,:,0], (Q_step)/relative_Y_gain)\n",
    "        k[:,:,1], dequantized_YCoCg_img[:,:,1] = q_deq(YCoCg_img[:,:,1], (Q_step)/relative_Co_gain)\n",
    "        k[:,:,2], dequantized_YCoCg_img[:,:,2] = q_deq(YCoCg_img[:,:,2], (Q_step)/relative_Cg_gain)\n",
    "        #k[0], dequantized_YCoCg_img[0] = q_deq(YCoCg_img[0], q_step/relative_Y_gain)\n",
    "        #k[1], dequantized_YCoCg_img[1] = q_deq(YCoCg_img[1], q_step/relative_Co_gain)\n",
    "        #k[2], dequantized_YCoCg_img[2] = q_deq(YCoCg_img[2], q_step/relative_Cg_gain)\n",
    "        rate = bits_per_RGB_pixel(k)\n",
    "        dequantized_RGB_img = YCoCg.to_RGB(dequantized_YCoCg_img)\n",
    "        _distortion = distortion.MSE(RGB_img, dequantized_RGB_img)\n",
    "        RD_points.append((rate, _distortion))\n",
    "        print(f\"Q_step={Q_step:>3}, rate={rate:>7} BPS, distortion={_distortion:>6.1f}\")\n",
    "    return RD_points\n",
    "\n",
    "YCoCg_gains_points = YCoCg_RD_curve_with_gains(img)"
   ]
  },
  {
   "cell_type": "code",
   "execution_count": null,
   "metadata": {
    "scrolled": false
   },
   "outputs": [],
   "source": [
    "pylab.figure(dpi=150)\n",
    "pylab.scatter(*zip(*YCoCg_points), c='r', marker=\".\", s=0.5,\n",
    "           label='$\\Delta_{\\mathrm{Y}}=\\Delta_{\\mathrm{Co}}=\\Delta_{\\mathrm{Cg}}$')\n",
    "pylab.scatter(*zip(*YCoCg_gains_points), c='b', marker=\"x\", s=1,\n",
    "           label='$\\Delta_{\\mathrm{Y}}=' + \"{:3.1f}\".format(relative_Y_gain) + '\\Delta_{\\mathrm{Cg}}' +\n",
    "           ';\\Delta_{\\mathrm{Cg}}=' + \"{:3.1f}\".format(relative_Cg_gain) + '\\Delta_{\\mathrm{Co}}$')\n",
    "pylab.title(\"Performance of Quantization in Different Domains\")\n",
    "pylab.xlabel(\"Bits/Pixel\")\n",
    "pylab.ylabel(\"MSE\")\n",
    "plt.legend(loc='upper right')\n",
    "pylab.show()"
   ]
  },
  {
   "cell_type": "markdown",
   "metadata": {},
   "source": [
    "### Comparing the three domains using the same quantization steps"
   ]
  },
  {
   "cell_type": "code",
   "execution_count": null,
   "metadata": {},
   "outputs": [],
   "source": [
    "pylab.figure(dpi=150)\n",
    "#pylab.plot(*zip(*RGB_points), c='b', marker=\"x\",\n",
    "#           label='$\\Delta_{\\mathrm{R}}=\\Delta_{\\mathrm{G}}=\\Delta_{\\mathrm{B}}$')\n",
    "#pylab.plot(*zip(*YCrCb_points), c='r', marker=\"x\",\n",
    "#           label='$\\Delta_{\\mathrm{Y}}=\\Delta_{\\mathrm{Cr}}=\\Delta_{\\mathrm{Cb}}$')\n",
    "#pylab.plot(*zip(*YYCrCb_gains_points), c='m', marker=\"x\",\n",
    "#           label='$\\Delta_{\\mathrm{Y}}=' + \"{:3.1f}\".format(Y_gain) + '\\Delta_{\\mathrm{Cr}}' +\n",
    "#           ';\\Delta_{\\mathrm{Cb}}=' + \"{:3.1f}\".format(Cb_gain) + '\\Delta_{\\mathrm{Cr}}$')\n",
    "pylab.plot(*zip(*YCoCg_points), c='g', marker=\"x\",\n",
    "           label='$\\Delta_{\\mathrm{Y}}=\\Delta_{\\mathrm{Co}}=\\Delta_{\\mathrm{Cg}}$')\n",
    "pylab.title(\"Performance of Quantization in Different Domains\")\n",
    "pylab.xlabel(\"Bits/Pixel\")\n",
    "pylab.ylabel(\"MSE\")\n",
    "plt.legend(loc='upper right')\n",
    "pylab.show()"
   ]
  },
  {
   "cell_type": "code",
   "execution_count": null,
   "metadata": {},
   "outputs": [],
   "source": [
    "Cr_gain = 1.0 # 2.4754\n",
    "Cb_gain = 3.25832/2.4754\n",
    "Y_gain = 3/2.4754\n",
    "def YYCrCb_RD_curve_with_gains(RGB_frame):\n",
    "    RD_points = []\n",
    "    for q_step in range(0, 8):\n",
    "        YYCrCb_frame = YCrCb.from_RGB(RGB_frame.astype(np.uint8))\n",
    "        dequantized_YYCrCb_frame = np.empty_like(YYCrCb_frame)\n",
    "        k = np.empty_like(YYCrCb_frame, dtype=np.uint8)\n",
    "        k[:,:,0], dequantized_YYCrCb_frame[:,:,0] = q_deq(YYCrCb_frame[:,:,0], (1<<q_step)/Y_gain)\n",
    "        k[:,:,1], dequantized_YYCrCb_frame[:,:,1] = q_deq(YYCrCb_frame[:,:,1], (1<<q_step)/Cr_gain)\n",
    "        k[:,:,2], dequantized_YYCrCb_frame[:,:,2] = q_deq(YYCrCb_frame[:,:,2], (1<<q_step)/Cb_gain)\n",
    "        rate = bits_per_RGB_pixel(k)\n",
    "        dequantized_YYCrCb_frame = dequantized_YYCrCb_frame.astype(np.uint8)\n",
    "        dequantized_RGB_frame = YCrCb.to_RGB(dequantized_YYCrCb_frame)\n",
    "        _distortion = distortion.MSE(RGB_frame, dequantized_RGB_frame)\n",
    "        RD_points.append((rate, _distortion))\n",
    "        print(f\"q_step={1<<q_step:>3}, rate={rate:>7} BPS, distortion={_distortion:>6.1f}\")\n",
    "    return RD_points\n",
    "\n",
    "YYCrCb_gains_points = YYCrCb_RD_curve_with_gains(img)"
   ]
  },
  {
   "cell_type": "markdown",
   "metadata": {},
   "source": [
    "Conclusions:\n",
    "1. In general, quantization is more effective in the transformed domain considering the RD plane.\n",
    "2. $\\Delta_{\\mathrm{Y}}=1.2\\Delta_{\\mathrm{Cr}}; \\Delta_{\\mathrm{Cb}}=1.3\\Delta_{\\mathrm{Cr}}$ is slightly better than $\\Delta_{\\mathrm{Y}}=\\Delta_{\\mathrm{Cr}}=\\Delta_{\\mathrm{Cb}}$, at low bit-rates, and viceversa.\n",
    "3. At low bit-rates, tt's better to quantize YCoCb than to quantize YCrCb. "
   ]
  },
  {
   "cell_type": "markdown",
   "metadata": {},
   "source": [
    "## Is $\\Delta_{\\mathrm{Y}}=1.2\\Delta_{\\mathrm{Cr}}; \\Delta_{\\mathrm{Cb}}=1.3\\Delta_{\\mathrm{Cr}}$ the best quantization in YCrCb?\n",
    "No, $\\Delta_{\\mathrm{Y}}=\\Delta_{\\mathrm{Cr}}=\\Delta_{\\mathrm{Cb}}$ is better than $\\Delta_{\\mathrm{Y}}=1.2\\Delta_{\\mathrm{Cr}}; \\Delta_{\\mathrm{Cb}}=1.3\\Delta_{\\mathrm{Cr}}$ at high bit-rates."
   ]
  },
  {
   "cell_type": "markdown",
   "metadata": {},
   "source": [
    "## Is $\\Delta_{\\mathrm{Y}}=1.2\\Delta_{\\mathrm{Cr}}; \\Delta_{\\mathrm{Cb}}=1.3\\Delta_{\\mathrm{Cr}}$ optimal at low bit-rates quantizing YCrCb?"
   ]
  },
  {
   "cell_type": "code",
   "execution_count": null,
   "metadata": {},
   "outputs": [],
   "source": [
    "N=5\n",
    "def only_Y_RD_curve(RGB_frame):\n",
    "    RD_points = []\n",
    "    for q_step in range(0, 8):\n",
    "        print(q_step, end=' ')\n",
    "        YCrCb_frame = YCrCb.from_RGB(RGB_frame.astype(np.uint8))\n",
    "        dequantized_YCrCb_frame = np.empty_like(YCrCb_frame)\n",
    "        k = np.empty_like(YCrCb_frame, dtype=np.uint8)\n",
    "        k[:,:,0], dequantized_YCrCb_frame[:,:,0] = q_deq(YCrCb_frame[:,:,0], 1<<q_step)\n",
    "        k[:,:,1], dequantized_YCrCb_frame[:,:,1] = q_deq(YCrCb_frame[:,:,1], 1<<N)\n",
    "        k[:,:,2], dequantized_YCrCb_frame[:,:,2] = q_deq(YCrCb_frame[:,:,2], 1<<N)\n",
    "        rate = bits_per_RGB_pixel(k)\n",
    "        dequantized_YCrCb_frame = dequantized_YCrCb_frame.astype(np.uint8)\n",
    "        assert dequantized_YCrCb_frame.all() >= 0\n",
    "        dequantized_RGB_frame = YCrCb.to_RGB(dequantized_YCrCb_frame)\n",
    "        _distortion = distortion.MSE(RGB_frame, dequantized_RGB_frame)\n",
    "        RD_points.append((rate, _distortion))\n",
    "    return RD_points\n",
    "\n",
    "def only_Cb_RD_curve(RGB_frame):\n",
    "    RD_points = []\n",
    "    for q_step in range(0, 8):\n",
    "        print(q_step, end=' ')\n",
    "        YCrCb_frame = YCrCb.from_RGB(RGB_frame.astype(np.uint8))\n",
    "        dequantized_YCrCb_frame = np.empty_like(YCrCb_frame)\n",
    "        k = np.empty_like(YCrCb_frame, dtype=np.uint8)\n",
    "        k[:,:,0], dequantized_YCrCb_frame[:,:,0] = q_deq(YCrCb_frame[:,:,0], 1<<N)\n",
    "        k[:,:,1], dequantized_YCrCb_frame[:,:,1] = q_deq(YCrCb_frame[:,:,1], 1<<q_step)\n",
    "        k[:,:,2], dequantized_YCrCb_frame[:,:,2] = q_deq(YCrCb_frame[:,:,2], 1<<N)\n",
    "        rate = bits_per_RGB_pixel(k)\n",
    "        assert dequantized_YCrCb_frame.all() >= 0\n",
    "        dequantized_YCrCb_frame = dequantized_YCrCb_frame.astype(np.uint8)\n",
    "        dequantized_RGB_frame = YCrCb.to_RGB(dequantized_YCrCb_frame)\n",
    "        _distortion = distortion.MSE(RGB_frame, dequantized_RGB_frame)\n",
    "        RD_points.append((rate, _distortion))\n",
    "    return RD_points\n",
    "\n",
    "def only_Cr_RD_curve(RGB_frame):\n",
    "    RD_points = []\n",
    "    for q_step in range(0, 8):\n",
    "        print(q_step, end=' ')\n",
    "        YCrCb_frame = YCrCb.from_RGB(RGB_frame.astype(np.uint8))\n",
    "        dequantized_YCrCb_frame = np.empty_like(YCrCb_frame)\n",
    "        k = np.empty_like(YCrCb_frame, dtype=np.uint8)\n",
    "        k[:,:,0], dequantized_YCrCb_frame[:,:,0] = q_deq(YCrCb_frame[:,:,0], 1<<N)\n",
    "        k[:,:,1], dequantized_YCrCb_frame[:,:,1] = q_deq(YCrCb_frame[:,:,1], 1<<N)\n",
    "        k[:,:,2], dequantized_YCrCb_frame[:,:,2] = q_deq(YCrCb_frame[:,:,2], 1<<q_step)\n",
    "        rate = bits_per_RGB_pixel(k)\n",
    "        dequantized_YCrCb_frame = dequantized_YCrCb_frame.astype(np.uint8)\n",
    "        assert dequantized_YCrCb_frame.all() >= 0\n",
    "        dequantized_RGB_frame = YCrCb.to_RGB(dequantized_YCrCb_frame)\n",
    "        _distortion = distortion.MSE(RGB_frame, dequantized_RGB_frame)\n",
    "        RD_points.append((rate, _distortion))\n",
    "    return RD_points\n",
    "\n",
    "only_Y_points = only_Y_RD_curve(img)\n",
    "only_Cb_points = only_Cb_RD_curve(img)\n",
    "only_Cr_points = only_Cr_RD_curve(img)"
   ]
  },
  {
   "cell_type": "code",
   "execution_count": null,
   "metadata": {},
   "outputs": [],
   "source": [
    "pylab.figure(dpi=150)\n",
    "pylab.plot(*zip(*YYCrCb_gains_points), c='m', marker=\"x\",\n",
    "           label='$\\Delta_{\\mathrm{Y}}=' + \"{:3.1f}\".format(Y_gain) + '\\Delta_{\\mathrm{Cr}}' +\n",
    "           ';\\Delta_{\\mathrm{Cb}}=' + \"{:3.1f}\".format(Cb_gain) + '\\Delta_{\\mathrm{Cr}}$')\n",
    "pylab.plot(*zip(*only_Y_points), c='r', marker=\"o\",\n",
    "           label='$\\Delta_{\\mathrm{Y}}~\\mathrm{varies},~\\Delta_{\\mathrm{Cr}}=\\Delta_{\\mathrm{Cb}}=$' + '{}'.format(1<<N))              \n",
    "pylab.plot(*zip(*only_Cb_points), c='g', marker=\"o\",\n",
    "           label='$\\Delta_{\\mathrm{Cb}}~\\mathrm{varies},~\\Delta_{\\mathrm{Y}}=\\Delta_{\\mathrm{Cr}}=$' + '{}'.format(1<<N))              \n",
    "pylab.plot(*zip(*only_Cr_points), c='b', marker=\"o\",\n",
    "           label='$\\Delta_{\\mathrm{Cr}}~\\mathrm{varies},~\\Delta_{\\mathrm{Y}}=\\Delta_{\\mathrm{Cb}}=$' + '{}'.format(1<<N))              \n",
    "pylab.title(\"RD Performance\")\n",
    "pylab.xlabel(\"Bits/Pixel\")\n",
    "pylab.ylabel(\"RMSE\")\n",
    "plt.legend(loc='upper right')\n",
    "pylab.show()"
   ]
  },
  {
   "cell_type": "markdown",
   "metadata": {},
   "source": [
    "No, there are combinations of $\\Delta_{\\mathrm{Y}}$, $\\Delta_{\\mathrm{Cr}}$, and $\\Delta_{\\mathrm{Cb}}$ better than $\\Delta_{\\mathrm{Y}}=1.2\\Delta_{\\mathrm{Cr}}; \\Delta_{\\mathrm{Cb}}=1.3\\Delta_{\\mathrm{Cr}}$ at low bit-rates."
   ]
  },
  {
   "cell_type": "markdown",
   "metadata": {},
   "source": [
    "## Is $\\Delta_{\\mathrm{Y}}=\\Delta_{\\mathrm{Co}}=\\Delta_{\\mathrm{Cg}}$ optimal quantizing YCoCb?"
   ]
  },
  {
   "cell_type": "code",
   "execution_count": null,
   "metadata": {},
   "outputs": [],
   "source": [
    "N=4\n",
    "def only_Y_RD_curve(RGB_frame):\n",
    "    RD_points = []\n",
    "    for q_step in range(0, 8):\n",
    "        print(q_step, end=' ')\n",
    "        YCoCg_frame = YCoCg.from_RGB(RGB_frame.astype(np.int16))\n",
    "        dequantized_YCoCg_frame = np.empty_like(YCoCg_frame)\n",
    "        k = np.empty_like(YCoCg_frame, dtype=np.uint8)\n",
    "        k[:,:,0], dequantized_YCoCg_frame[:,:,0] = q_deq(YCoCg_frame[:,:,0], 1<<q_step)\n",
    "        k[:,:,1], dequantized_YCoCg_frame[:,:,1] = q_deq(YCoCg_frame[:,:,1], 1<<N)\n",
    "        k[:,:,2], dequantized_YCoCg_frame[:,:,2] = q_deq(YCoCg_frame[:,:,2], 1<<N)\n",
    "        #k[:,:,1], dequantized_YCoCg_frame[:,:,1] = q_deq(YCoCg_frame[:,:,1], 1<<q_step)\n",
    "        #k[:,:,2], dequantized_YCoCg_frame[:,:,2] = q_deq(YCoCg_frame[:,:,2], 1<<q_step)\n",
    "        rate = bits_per_RGB_pixel(k)\n",
    "        dequantized_RGB_frame = YCoCg.to_RGB(dequantized_YCoCg_frame)\n",
    "        _distortion = distortion.MSE(RGB_frame, dequantized_RGB_frame)\n",
    "        RD_points.append((rate, _distortion))\n",
    "    return RD_points\n",
    "\n",
    "def only_Co_RD_curve(RGB_frame):\n",
    "    RD_points = []\n",
    "    for q_step in range(0, 8):\n",
    "        print(q_step, end=' ')\n",
    "        YCoCg_frame = YCoCg.from_RGB(RGB_frame.astype(np.int16))\n",
    "        dequantized_YCoCg_frame = np.empty_like(YCoCg_frame)\n",
    "        k = np.empty_like(YCoCg_frame, dtype=np.uint8)\n",
    "        k[:,:,0], dequantized_YCoCg_frame[:,:,0] = q_deq(YCoCg_frame[:,:,0], 1<<N)\n",
    "        k[:,:,1], dequantized_YCoCg_frame[:,:,1] = q_deq(YCoCg_frame[:,:,1], 1<<q_step)\n",
    "        k[:,:,2], dequantized_YCoCg_frame[:,:,2] = q_deq(YCoCg_frame[:,:,2], 1<<N)\n",
    "        rate = bits_per_RGB_pixel(k)\n",
    "        dequantized_RGB_frame = YCoCg.to_RGB(dequantized_YCoCg_frame)\n",
    "        _distortion = distortion.MSE(RGB_frame, dequantized_RGB_frame)\n",
    "        RD_points.append((rate, _distortion))\n",
    "    return RD_points\n",
    "\n",
    "def only_Cg_RD_curve(RGB_frame):\n",
    "    RD_points = []\n",
    "    for q_step in range(0, 8):\n",
    "        print(q_step, end=' ')\n",
    "        YCoCg_frame = YCoCg.from_RGB(RGB_frame.astype(np.int16))\n",
    "        dequantized_YCoCg_frame = np.empty_like(YCoCg_frame)\n",
    "        k = np.empty_like(YCoCg_frame, dtype=np.uint8)\n",
    "        k[:,:,0], dequantized_YCoCg_frame[:,:,0] = q_deq(YCoCg_frame[:,:,0], 1<<N)\n",
    "        k[:,:,1], dequantized_YCoCg_frame[:,:,1] = q_deq(YCoCg_frame[:,:,1], 1<<N)\n",
    "        k[:,:,2], dequantized_YCoCg_frame[:,:,2] = q_deq(YCoCg_frame[:,:,2], 1<<q_step)\n",
    "        rate = bits_per_RGB_pixel(k)\n",
    "        dequantized_RGB_frame = YCoCg.to_RGB(dequantized_YCoCg_frame)\n",
    "        _distortion = distortion.MSE(RGB_frame, dequantized_RGB_frame)\n",
    "        RD_points.append((rate, _distortion))\n",
    "    return RD_points\n",
    "\n",
    "only_Y_points = only_Y_RD_curve(img)\n",
    "only_Co_points = only_Co_RD_curve(img)\n",
    "only_Cg_points = only_Cg_RD_curve(img)"
   ]
  },
  {
   "cell_type": "code",
   "execution_count": null,
   "metadata": {},
   "outputs": [],
   "source": [
    "pylab.figure(dpi=150)\n",
    "pylab.plot(*zip(*only_Y_points), c='r', marker=\"o\",\n",
    "           label='$\\Delta_{\\mathrm{Y}}~\\mathrm{varies},~\\Delta_{\\mathrm{Co}}=\\Delta_{\\mathrm{Cg}}=$' + '{}'.format(1<<N))              \n",
    "pylab.plot(*zip(*only_Co_points), c='m', marker=\"o\",\n",
    "           label='$\\Delta_{\\mathrm{Co}}~\\mathrm{varies},~\\Delta_{\\mathrm{Y}}=\\Delta_{\\mathrm{Cg}}=$' + '{}'.format(1<<N))              \n",
    "pylab.plot(*zip(*only_Cg_points), c='b', marker=\"o\",\n",
    "           label='$\\Delta_{\\mathrm{Cg}}~\\mathrm{varies},~\\Delta_{\\mathrm{Y}}=\\Delta_{\\mathrm{Co}}=$' + '{}'.format(1<<N))              \n",
    "pylab.plot(*zip(*YCoCg_points), c='g', marker=\"x\",\n",
    "           label='$\\Delta_{\\mathrm{Y}}=\\Delta_{\\mathrm{Co}}=\\Delta_{\\mathrm{Cg}}$')\n",
    "pylab.title(\"RD Performance\")\n",
    "pylab.xlabel(\"Bits/Pixel\")\n",
    "pylab.ylabel(\"RMSE\")\n",
    "plt.legend(loc='upper right')\n",
    "pylab.show()"
   ]
  },
  {
   "cell_type": "markdown",
   "metadata": {},
   "source": [
    "At least, using the same experiment than before, $\\Delta_{\\mathrm{Y}}=\\Delta_{\\mathrm{Co}}=\\Delta_{\\mathrm{Cg}}$ seems to be near optimal quantizing YCoCb."
   ]
  },
  {
   "cell_type": "markdown",
   "metadata": {},
   "source": [
    "## Ignore the rest ..."
   ]
  },
  {
   "cell_type": "code",
   "execution_count": null,
   "metadata": {},
   "outputs": [],
   "source": [
    "input()"
   ]
  },
  {
   "cell_type": "markdown",
   "metadata": {},
   "source": [
    "## Some experiments showing the impact of the lack of orthogonality"
   ]
  },
  {
   "cell_type": "code",
   "execution_count": null,
   "metadata": {},
   "outputs": [],
   "source": [
    "def _YCbCr_RD_curve(RGB_frame, N):\n",
    "    RD_points = []\n",
    "    for q_step in range(0, 8):\n",
    "        print(q_step, end=' ')\n",
    "        YCbCr_frame = RGB_to_YCbCr(RGB_frame.astype(np.uint8))\n",
    "        dequantized_YCbCr_frame = np.empty_like(YCbCr_frame)\n",
    "        k = np.empty_like(YCbCr_frame)\n",
    "        k[:,:,0], dequantized_YCbCr_frame[:,:,0] = q_deq(YCbCr_frame[:,:,0], 1<<q_step)\n",
    "        k[:,:,1], dequantized_YCbCr_frame[:,:,1] = q_deq(YCbCr_frame[:,:,1], 1<<N)\n",
    "        k[:,:,2], dequantized_YCbCr_frame[:,:,2] = q_deq(YCbCr_frame[:,:,2], 1<<N)\n",
    "        rate = bytes_per_color_frame(k)\n",
    "        dequantized_YCbCr_frame = dequantized_YCbCr_frame.astype(np.uint8)\n",
    "        dequantized_RGB_frame = YCbCr_to_RGB(dequantized_YCbCr_frame)\n",
    "        distortion = RMSE(RGB_frame, dequantized_RGB_frame)\n",
    "        RD_points.append((rate, distortion))\n",
    "    return RD_points\n",
    "\n",
    "_YCbCr_points_8 = _YCbCr_RD_curve(frame, 8)\n",
    "_YCbCr_points_7 = _YCbCr_RD_curve(frame, 7)\n",
    "_YCbCr_points_6 = _YCbCr_RD_curve(frame, 6)\n",
    "_YCbCr_points_5 = _YCbCr_RD_curve(frame, 5)\n",
    "_YCbCr_points_4 = _YCbCr_RD_curve(frame, 4)\n",
    "_YCbCr_points_3 = _YCbCr_RD_curve(frame, 3)"
   ]
  },
  {
   "cell_type": "code",
   "execution_count": null,
   "metadata": {},
   "outputs": [],
   "source": [
    "1<<4"
   ]
  },
  {
   "cell_type": "code",
   "execution_count": null,
   "metadata": {},
   "outputs": [],
   "source": [
    "pylab.figure(dpi=150)\n",
    "pylab.plot(*zip(*YCbCr_points), c='r', marker=\"x\",\n",
    "           label='$\\Delta_{\\mathrm{Y}}=\\Delta_{\\mathrm{Cr}}=\\Delta_{\\mathrm{Cb}}$')\n",
    "pylab.plot(*zip(*_YCbCr_points_8), c='b', marker=\"x\",\n",
    "           label='$\\Delta_{\\mathrm{Y}}~\\mathrm{varies},~\\Delta_{\\mathrm{Cr}}=\\Delta_{\\mathrm{Cb}}=$' + '{}'.format(1<<8))\n",
    "pylab.plot(*zip(*_YCbCr_points_7), c='g', marker=\"x\",\n",
    "           label='$\\Delta_{\\mathrm{Y}}~\\mathrm{varies},~\\Delta_{\\mathrm{Cr}}=\\Delta_{\\mathrm{Cb}}=$' + '{}'.format(1<<7))\n",
    "pylab.plot(*zip(*_YCbCr_points_6), c='c', marker=\"x\",\n",
    "           label='$\\Delta_{\\mathrm{Y}}~\\mathrm{varies},~\\Delta_{\\mathrm{Cr}}=\\Delta_{\\mathrm{Cb}}=$' + '{}'.format(1<<6))\n",
    "pylab.plot(*zip(*_YCbCr_points_5), c='m', marker=\"x\",\n",
    "           label='$\\Delta_{\\mathrm{Y}}~\\mathrm{varies},~\\Delta_{\\mathrm{Cr}}=\\Delta_{\\mathrm{Cb}}=$' + '{}'.format(1<<5))\n",
    "pylab.plot(*zip(*_YCbCr_points_4), c='y', marker=\"x\",\n",
    "           label='$\\Delta_{\\mathrm{Y}}~\\mathrm{varies},~\\Delta_{\\mathrm{Cr}}=\\Delta_{\\mathrm{Cb}}=$' + '{}'.format(1<<4))\n",
    "pylab.plot(*zip(*_YCbCr_points_3), c='k', marker=\"o\",\n",
    "           label='$\\Delta_{\\mathrm{Y}}~\\mathrm{varies},~\\Delta_{\\mathrm{Cr}}=\\Delta_{\\mathrm{Cb}}=$' + '{}'.format(1<<3))\n",
    "pylab.plot(*zip(*YCbCr_gains_points), c='m', marker=\"+\",\n",
    "           label='$\\Delta_{\\mathrm{Y}}=' + \"{:3.1f}\".format(Y_gain) + '\\Delta_{\\mathrm{Cr}}' +\n",
    "           ';\\Delta_{\\mathrm{Cb}}=' + \"{:3.1f}\".format(Cb_gain) + '\\Delta_{\\mathrm{Cr}}$')\n",
    "pylab.title(\"The lack of non-orthogonality in the YCrCb transform\")\n",
    "pylab.xlabel(\"Bytes/Frame\")\n",
    "pylab.ylabel(\"RMSE\")\n",
    "plt.legend(loc='upper right')\n",
    "pylab.show()"
   ]
  },
  {
   "cell_type": "markdown",
   "metadata": {},
   "source": [
    "From this experiment we conclude that:\n",
    "1. The luma should not be \"deleted\" from the code-stream (see curve $\\Delta_{\\mathrm{Y}}=\\Delta_{\\mathrm{Cr}}=\\Delta_{\\mathrm{Cb}}$).\n",
    "2. There are better combinations than $\\Delta_{\\mathrm{Y}}=\\Delta_{\\mathrm{Cr}}=\\Delta_{\\mathrm{Cb}}$ and $\\Delta_{\\mathrm{Y}}=1.2\\Delta_{\\mathrm{Cr}};\\Delta_{\\mathrm{Cb}}=1.3\\Delta_{\\mathrm{Cr}}$."
   ]
  },
  {
   "cell_type": "markdown",
   "metadata": {},
   "source": [
    "### YCrCb"
   ]
  },
  {
   "cell_type": "markdown",
   "metadata": {},
   "source": [
    "It's possible to find better combinations than $\\Delta_{\\mathrm{Y}}=1.2\\Delta_{\\mathrm{Cr}};\\Delta_{\\mathrm{Cb}}=1.3\\Delta_{\\mathrm{Cr}}$."
   ]
  },
  {
   "cell_type": "markdown",
   "metadata": {},
   "source": [
    "Notice that, at least visually, it does not make sense to use $\\Delta_{\\mathrm{Y}}\\ge 8$ because the reconstructed image will be very dark or even black. The same holds for YCoCg."
   ]
  },
  {
   "cell_type": "code",
   "execution_count": null,
   "metadata": {},
   "outputs": [],
   "source": [
    "ycc = RGB_to_YCbCr(frame.astype(np.uint8))\n",
    "ycc[:,:,0] = 0\n",
    "frame2 = YCbCr_to_RGB(ycc)\n",
    "print(frame2.min(), frame2.max())\n",
    "show_frame(frame2, \"$\\Delta_{\\mathrm{Y}} \\ge 8$\" + \" (YCbCr domain)\")"
   ]
  },
  {
   "cell_type": "markdown",
   "metadata": {},
   "source": [
    "### YCoCg"
   ]
  },
  {
   "cell_type": "markdown",
   "metadata": {},
   "source": [
    "Notice that, at least visually, it does not make sense to use $\\Delta_{\\mathrm{Y}}\\ge 8$ because the reconstructed image will be very dark or even black. The same holds for YCoCg."
   ]
  },
  {
   "cell_type": "code",
   "execution_count": null,
   "metadata": {},
   "outputs": [],
   "source": [
    "ycc = RGB_to_YCoCg(frame)\n",
    "ycc[:,:,0]= 0\n",
    "frame2 = YCoCg_to_RGB(ycc)\n",
    "print(frame2.min(), frame2.max())\n",
    "show_frame(frame2, \"$\\Delta_{\\mathrm{Y}} \\ge 8$\" + \" (YCoCg domain)\")"
   ]
  },
  {
   "cell_type": "code",
   "execution_count": null,
   "metadata": {},
   "outputs": [],
   "source": [
    "def YCbCr_RD_curve_only_Y(RGB_frame):\n",
    "    RD_points = []\n",
    "    for q_step in range(0, 8):\n",
    "        print(q_step, end=' ')\n",
    "        YCbCr_frame = RGB_to_YCbCr(RGB_frame.astype(np.uint8))\n",
    "        YCbCr_frame[:,:,1] = 0\n",
    "        YCbCr_frame[:,:,2] = 0\n",
    "        k, dequantized_YCbCr_frame = q_deq(YCbCr_frame, 1<<q_step)\n",
    "        k[:,:,0] = 0\n",
    "        rate = byte_rate(k)\n",
    "        dequantized_YCbCr_frame = dequantized_YCbCr_frame.astype(np.uint8)\n",
    "        dequantized_RGB_frame = YCbCr_to_RGB(dequantized_YCbCr_frame)\n",
    "        distortion = RMSE(RGB_frame, dequantized_RGB_frame)\n",
    "        RD_points.append((rate, distortion))\n",
    "    return RD_points\n",
    "\n",
    "def YCbCr_RD_curve_only_Cb(RGB_frame):\n",
    "    RD_points = []\n",
    "    for q_step in range(0, 8):\n",
    "        print(q_step, end=' ')\n",
    "        YCbCr_frame = RGB_to_YCbCr(RGB_frame.astype(np.uint8))\n",
    "        YCbCr_frame[:,:,0] = 0\n",
    "        YCbCr_frame[:,:,2] = 0\n",
    "        k, dequantized_YCbCr_frame = q_deq(YCbCr_frame, 1<<q_step)\n",
    "        rate = byte_rate(k)\n",
    "        dequantized_YCbCr_frame = dequantized_YCbCr_frame.astype(np.uint8)\n",
    "        dequantized_RGB_frame = YCbCr_to_RGB(dequantized_YCbCr_frame)\n",
    "        distortion = RMSE(RGB_frame, dequantized_RGB_frame)\n",
    "        RD_points.append((rate, distortion))\n",
    "    return RD_points\n",
    "\n",
    "def YCbCr_RD_curve_only_Cr(RGB_frame):\n",
    "    RD_points = []\n",
    "    for q_step in range(0, 8):\n",
    "        print(q_step, end=' ')\n",
    "        YCbCr_frame = RGB_to_YCbCr(RGB_frame.astype(np.uint8))\n",
    "        YCbCr_frame[:,:,0] = 0\n",
    "        YCbCr_frame[:,:,1] = 0\n",
    "        k, dequantized_YCbCr_frame = q_deq(YCbCr_frame, 1<<q_step)\n",
    "        rate = byte_rate(k)\n",
    "        dequantized_YCbCr_frame = dequantized_YCbCr_frame.astype(np.uint8)\n",
    "        dequantized_RGB_frame = YCbCr_to_RGB(dequantized_YCbCr_frame)\n",
    "        distortion = RMSE(RGB_frame, dequantized_RGB_frame)\n",
    "        RD_points.append((rate, distortion))\n",
    "    return RD_points\n",
    "\n",
    "only_Y_curve = YCbCr_RD_curve_only_Y(frame)\n",
    "only_Cb_curve = YCbCr_RD_curve_only_Cb(frame)\n",
    "only_Cr_curve = YCbCr_RD_curve_only_Cr(frame)"
   ]
  },
  {
   "cell_type": "code",
   "execution_count": null,
   "metadata": {},
   "outputs": [],
   "source": [
    "pylab.figure(dpi=150)\n",
    "pylab.scatter(*zip(*only_Y_curve), s=2, c='r', marker=\"o\", label='only Y')\n",
    "pylab.plot(*zip(*only_Y_curve), c='r', marker=\"o\")\n",
    "pylab.scatter(*zip(*only_Cb_curve), s=2, c='g', marker=\"o\", label='only Cb')\n",
    "pylab.plot(*zip(*only_Cb_curve), c='g', marker=\"o\")\n",
    "pylab.scatter(*zip(*only_Cr_curve), s=2, c='b', marker=\"o\", label='only Cr')\n",
    "pylab.plot(*zip(*only_Cr_curve), c='b', marker=\"o\")\n",
    "pylab.title(\"R/D Performance\")\n",
    "pylab.xlabel(\"Bytes/Frame\")\n",
    "pylab.ylabel(\"RMSE\")\n",
    "plt.legend(loc='upper right')\n",
    "pylab.show()"
   ]
  },
  {
   "cell_type": "code",
   "execution_count": null,
   "metadata": {},
   "outputs": [],
   "source": []
  },
  {
   "cell_type": "code",
   "execution_count": null,
   "metadata": {},
   "outputs": [],
   "source": [
    "def YCbCr_RD_curve_2(RGB_frame):\n",
    "    RD_points = []\n",
    "    for q_step in range(0, 8):\n",
    "        print(q_step, end=' ')\n",
    "        YCbCr_frame = RGB_to_YCbCr(RGB_frame.astype(np.uint16))\n",
    "        YCbCr_frame[:,:,1] //= 2\n",
    "        YCbCr_frame[:,:,2] //= 2\n",
    "        k, dequantized_YCbCr_frame = q_deq(YCbCr_frame, 1<<q_step)\n",
    "        dequantized_YCbCr_frame[:,:,1] *= 2\n",
    "        dequantized_YCbCr_frame[:,:,2] *= 2\n",
    "        rate = byte_rate(k)\n",
    "        dequantized_YCbCr_frame = dequantized_YCbCr_frame.astype(np.uint16)\n",
    "        dequantized_RGB_frame = YCbCr_to_RGB(dequantized_YCbCr_frame)\n",
    "        distortion = RMSE(RGB_frame, dequantized_RGB_frame)\n",
    "        RD_points.append((rate, distortion))\n",
    "    return RD_points\n",
    "\n",
    "YCbCr_quantization_2 = YCbCr_RD_curve_2(frame)"
   ]
  },
  {
   "cell_type": "code",
   "execution_count": null,
   "metadata": {},
   "outputs": [],
   "source": [
    "pylab.figure(dpi=150)\n",
    "pylab.scatter(*zip(*RGB_quantization), s=2, c='b', marker=\"o\", label='RGB quantization')\n",
    "pylab.plot(*zip(*RGB_quantization), c='b', marker=\"o\")\n",
    "pylab.scatter(*zip(*YCbCr_quantization), s=2, c='r', marker=\"o\", label='YCbCr quantization')\n",
    "pylab.plot(*zip(*YCbCr_quantization), c='r', marker=\"o\")\n",
    "pylab.scatter(*zip(*YCbCr_quantization_2), s=2, c='g', marker=\"o\", label='YCbCr quantization 2')\n",
    "pylab.plot(*zip(*YCbCr_quantization_2), c='g', marker=\"o\")\n",
    "pylab.title(\"R/D Only Quantization\")\n",
    "pylab.xlabel(\"Bytes/Frame\")\n",
    "pylab.ylabel(\"RMSE\")\n",
    "plt.legend(loc='upper right')\n",
    "pylab.show()"
   ]
  },
  {
   "cell_type": "code",
   "execution_count": null,
   "metadata": {},
   "outputs": [],
   "source": [
    "YCbCr_test_frame = np.array([255, 0, 0], dtype=np.int16).reshape((1,1,1))\n",
    "print(YCbCr_to_RGB(YCbCr_test_frame))"
   ]
  },
  {
   "cell_type": "code",
   "execution_count": null,
   "metadata": {},
   "outputs": [],
   "source": [
    "np.array([255, 0, 0], dtype=np.int16)"
   ]
  },
  {
   "cell_type": "code",
   "execution_count": null,
   "metadata": {},
   "outputs": [],
   "source": [
    "YCbCr_test_frame = np.zeros_like(frame).astype(np.uint16)"
   ]
  },
  {
   "cell_type": "code",
   "execution_count": null,
   "metadata": {},
   "outputs": [],
   "source": [
    "type(YCbCr_test_frame[0,0,0])"
   ]
  },
  {
   "cell_type": "code",
   "execution_count": null,
   "metadata": {},
   "outputs": [],
   "source": [
    "YCbCr_test_frame[1,1,2] = 255"
   ]
  },
  {
   "cell_type": "code",
   "execution_count": null,
   "metadata": {},
   "outputs": [],
   "source": [
    "RGB_test_frame = YCbCr_to_RGB(YCbCr_test_frame)"
   ]
  },
  {
   "cell_type": "code",
   "execution_count": null,
   "metadata": {},
   "outputs": [],
   "source": [
    "print(average_energy(RGB_test_frame))"
   ]
  },
  {
   "cell_type": "code",
   "execution_count": null,
   "metadata": {},
   "outputs": [],
   "source": [
    "show_frame(RGB_test_frame, \"\")"
   ]
  },
  {
   "cell_type": "code",
   "execution_count": null,
   "metadata": {},
   "outputs": [],
   "source": []
  }
 ],
 "metadata": {
  "kernelspec": {
   "display_name": "Python 3 (ipykernel)",
   "language": "python",
   "name": "python3"
  },
  "language_info": {
   "codemirror_mode": {
    "name": "ipython",
    "version": 3
   },
   "file_extension": ".py",
   "mimetype": "text/x-python",
   "name": "python",
   "nbconvert_exporter": "python",
   "pygments_lexer": "ipython3",
   "version": "3.10.8"
  }
 },
 "nbformat": 4,
 "nbformat_minor": 4
}
